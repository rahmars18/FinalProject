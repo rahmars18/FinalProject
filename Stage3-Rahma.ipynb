{
 "cells": [
  {
   "cell_type": "code",
   "execution_count": 1,
   "id": "30270903-553a-4fc9-975b-0f4c2a462ccc",
   "metadata": {},
   "outputs": [],
   "source": [
    "import warnings\n",
    "warnings.filterwarnings('ignore')"
   ]
  },
  {
   "cell_type": "code",
   "execution_count": 2,
   "id": "709b8c73-932e-492c-bee4-8180e2528dd6",
   "metadata": {},
   "outputs": [],
   "source": [
    "import numpy as np\n",
    "import pandas as pd\n",
    "import matplotlib.pyplot as plt\n",
    "import seaborn as sns\n",
    "\n",
    "from scipy import stats\n",
    "from imblearn import under_sampling, over_sampling\n",
    "from sklearn.model_selection import train_test_split"
   ]
  },
  {
   "cell_type": "code",
   "execution_count": 3,
   "id": "e9de4794-36ec-4da6-88f6-a14d2640b9f8",
   "metadata": {},
   "outputs": [
    {
     "name": "stdout",
     "output_type": "stream",
     "text": [
      "<class 'pandas.core.frame.DataFrame'>\n",
      "RangeIndex: 12205 entries, 0 to 12204\n",
      "Data columns (total 25 columns):\n",
      " #   Column                          Non-Null Count  Dtype  \n",
      "---  ------                          --------------  -----  \n",
      " 0   Month                           12205 non-null  int64  \n",
      " 1   OperatingSystems                12205 non-null  int64  \n",
      " 2   Browser                         12205 non-null  int64  \n",
      " 3   Region                          12205 non-null  int64  \n",
      " 4   TrafficType                     12205 non-null  int64  \n",
      " 5   VisitorType                     12205 non-null  object \n",
      " 6   Weekend                         12205 non-null  int64  \n",
      " 7   Revenue                         12205 non-null  bool   \n",
      " 8   yj_Administrative               12205 non-null  float64\n",
      " 9   yj_Administrative_Duration      12205 non-null  float64\n",
      " 10  yj_Informational                12205 non-null  float64\n",
      " 11  yj_Informational_Duration       12205 non-null  float64\n",
      " 12  yj_ProductRelated               12205 non-null  float64\n",
      " 13  yj_ProductRelated_Duration      12205 non-null  float64\n",
      " 14  yj_BounceRates                  12205 non-null  float64\n",
      " 15  yj_ExitRates                    12205 non-null  float64\n",
      " 16  yj_PageValues                   12205 non-null  float64\n",
      " 17  yj_SpecialDay                   12205 non-null  float64\n",
      " 18  visitor_type_Other              12205 non-null  int64  \n",
      " 19  visitor_type_Returning_Visitor  12205 non-null  int64  \n",
      " 20  totalPage_visit                 12205 non-null  float64\n",
      " 21  total_duration                  12205 non-null  float64\n",
      " 22  adm_rasio                       12205 non-null  float64\n",
      " 23  info_rasio                      12205 non-null  float64\n",
      " 24  product_rasio                   12205 non-null  float64\n",
      "dtypes: bool(1), float64(15), int64(8), object(1)\n",
      "memory usage: 2.2+ MB\n"
     ]
    }
   ],
   "source": [
    "#Data test\n",
    "df = pd.read_csv('Data/Datapre.csv')\n",
    "df.info()"
   ]
  },
  {
   "cell_type": "code",
   "execution_count": 4,
   "id": "ceaf91a6-d831-4509-ad00-fdeb93f39db6",
   "metadata": {},
   "outputs": [
    {
     "data": {
      "text/html": [
       "<div>\n",
       "<style scoped>\n",
       "    .dataframe tbody tr th:only-of-type {\n",
       "        vertical-align: middle;\n",
       "    }\n",
       "\n",
       "    .dataframe tbody tr th {\n",
       "        vertical-align: top;\n",
       "    }\n",
       "\n",
       "    .dataframe thead th {\n",
       "        text-align: right;\n",
       "    }\n",
       "</style>\n",
       "<table border=\"1\" class=\"dataframe\">\n",
       "  <thead>\n",
       "    <tr style=\"text-align: right;\">\n",
       "      <th></th>\n",
       "      <th>Month</th>\n",
       "      <th>OperatingSystems</th>\n",
       "      <th>Browser</th>\n",
       "      <th>Region</th>\n",
       "      <th>TrafficType</th>\n",
       "      <th>VisitorType</th>\n",
       "      <th>Weekend</th>\n",
       "      <th>Revenue</th>\n",
       "      <th>yj_Administrative</th>\n",
       "      <th>yj_Administrative_Duration</th>\n",
       "      <th>...</th>\n",
       "      <th>yj_ExitRates</th>\n",
       "      <th>yj_PageValues</th>\n",
       "      <th>yj_SpecialDay</th>\n",
       "      <th>visitor_type_Other</th>\n",
       "      <th>visitor_type_Returning_Visitor</th>\n",
       "      <th>totalPage_visit</th>\n",
       "      <th>total_duration</th>\n",
       "      <th>adm_rasio</th>\n",
       "      <th>info_rasio</th>\n",
       "      <th>product_rasio</th>\n",
       "    </tr>\n",
       "  </thead>\n",
       "  <tbody>\n",
       "    <tr>\n",
       "      <th>906</th>\n",
       "      <td>3</td>\n",
       "      <td>1</td>\n",
       "      <td>2</td>\n",
       "      <td>3</td>\n",
       "      <td>10</td>\n",
       "      <td>Returning_Visitor</td>\n",
       "      <td>0</td>\n",
       "      <td>False</td>\n",
       "      <td>1.028024</td>\n",
       "      <td>1.154481</td>\n",
       "      <td>...</td>\n",
       "      <td>-0.391563</td>\n",
       "      <td>-0.532801</td>\n",
       "      <td>-0.337630</td>\n",
       "      <td>0</td>\n",
       "      <td>1</td>\n",
       "      <td>3.097125</td>\n",
       "      <td>3.631398</td>\n",
       "      <td>1.123010</td>\n",
       "      <td>1.043832</td>\n",
       "      <td>3.780305</td>\n",
       "    </tr>\n",
       "    <tr>\n",
       "      <th>11061</th>\n",
       "      <td>12</td>\n",
       "      <td>2</td>\n",
       "      <td>2</td>\n",
       "      <td>2</td>\n",
       "      <td>1</td>\n",
       "      <td>Returning_Visitor</td>\n",
       "      <td>0</td>\n",
       "      <td>False</td>\n",
       "      <td>-0.998474</td>\n",
       "      <td>-1.005468</td>\n",
       "      <td>...</td>\n",
       "      <td>1.232706</td>\n",
       "      <td>-0.532801</td>\n",
       "      <td>-0.337630</td>\n",
       "      <td>0</td>\n",
       "      <td>1</td>\n",
       "      <td>-1.053193</td>\n",
       "      <td>-1.175926</td>\n",
       "      <td>1.007005</td>\n",
       "      <td>0.944540</td>\n",
       "      <td>0.691363</td>\n",
       "    </tr>\n",
       "    <tr>\n",
       "      <th>2835</th>\n",
       "      <td>5</td>\n",
       "      <td>2</td>\n",
       "      <td>2</td>\n",
       "      <td>2</td>\n",
       "      <td>2</td>\n",
       "      <td>Returning_Visitor</td>\n",
       "      <td>0</td>\n",
       "      <td>False</td>\n",
       "      <td>-0.998474</td>\n",
       "      <td>-1.005468</td>\n",
       "      <td>...</td>\n",
       "      <td>0.450497</td>\n",
       "      <td>-0.532801</td>\n",
       "      <td>2.972487</td>\n",
       "      <td>0</td>\n",
       "      <td>1</td>\n",
       "      <td>-1.988715</td>\n",
       "      <td>-2.255014</td>\n",
       "      <td>1.007005</td>\n",
       "      <td>0.944540</td>\n",
       "      <td>1.618276</td>\n",
       "    </tr>\n",
       "    <tr>\n",
       "      <th>8206</th>\n",
       "      <td>12</td>\n",
       "      <td>2</td>\n",
       "      <td>2</td>\n",
       "      <td>1</td>\n",
       "      <td>2</td>\n",
       "      <td>Returning_Visitor</td>\n",
       "      <td>0</td>\n",
       "      <td>False</td>\n",
       "      <td>-0.998474</td>\n",
       "      <td>-1.005468</td>\n",
       "      <td>...</td>\n",
       "      <td>1.610382</td>\n",
       "      <td>-0.532801</td>\n",
       "      <td>-0.337630</td>\n",
       "      <td>0</td>\n",
       "      <td>1</td>\n",
       "      <td>-1.625719</td>\n",
       "      <td>-1.250725</td>\n",
       "      <td>1.007005</td>\n",
       "      <td>0.984442</td>\n",
       "      <td>0.840192</td>\n",
       "    </tr>\n",
       "    <tr>\n",
       "      <th>3099</th>\n",
       "      <td>5</td>\n",
       "      <td>1</td>\n",
       "      <td>1</td>\n",
       "      <td>3</td>\n",
       "      <td>2</td>\n",
       "      <td>Returning_Visitor</td>\n",
       "      <td>0</td>\n",
       "      <td>False</td>\n",
       "      <td>0.550281</td>\n",
       "      <td>0.446816</td>\n",
       "      <td>...</td>\n",
       "      <td>1.302618</td>\n",
       "      <td>-0.532801</td>\n",
       "      <td>2.972487</td>\n",
       "      <td>0</td>\n",
       "      <td>1</td>\n",
       "      <td>0.224657</td>\n",
       "      <td>-0.137696</td>\n",
       "      <td>0.811978</td>\n",
       "      <td>0.944540</td>\n",
       "      <td>-0.452577</td>\n",
       "    </tr>\n",
       "  </tbody>\n",
       "</table>\n",
       "<p>5 rows × 25 columns</p>\n",
       "</div>"
      ],
      "text/plain": [
       "       Month  OperatingSystems  Browser  Region  TrafficType  \\\n",
       "906        3                 1        2       3           10   \n",
       "11061     12                 2        2       2            1   \n",
       "2835       5                 2        2       2            2   \n",
       "8206      12                 2        2       1            2   \n",
       "3099       5                 1        1       3            2   \n",
       "\n",
       "             VisitorType  Weekend  Revenue  yj_Administrative  \\\n",
       "906    Returning_Visitor        0    False           1.028024   \n",
       "11061  Returning_Visitor        0    False          -0.998474   \n",
       "2835   Returning_Visitor        0    False          -0.998474   \n",
       "8206   Returning_Visitor        0    False          -0.998474   \n",
       "3099   Returning_Visitor        0    False           0.550281   \n",
       "\n",
       "       yj_Administrative_Duration  ...  yj_ExitRates  yj_PageValues  \\\n",
       "906                      1.154481  ...     -0.391563      -0.532801   \n",
       "11061                   -1.005468  ...      1.232706      -0.532801   \n",
       "2835                    -1.005468  ...      0.450497      -0.532801   \n",
       "8206                    -1.005468  ...      1.610382      -0.532801   \n",
       "3099                     0.446816  ...      1.302618      -0.532801   \n",
       "\n",
       "       yj_SpecialDay  visitor_type_Other  visitor_type_Returning_Visitor  \\\n",
       "906        -0.337630                   0                               1   \n",
       "11061      -0.337630                   0                               1   \n",
       "2835        2.972487                   0                               1   \n",
       "8206       -0.337630                   0                               1   \n",
       "3099        2.972487                   0                               1   \n",
       "\n",
       "       totalPage_visit  total_duration  adm_rasio  info_rasio  product_rasio  \n",
       "906           3.097125        3.631398   1.123010    1.043832       3.780305  \n",
       "11061        -1.053193       -1.175926   1.007005    0.944540       0.691363  \n",
       "2835         -1.988715       -2.255014   1.007005    0.944540       1.618276  \n",
       "8206         -1.625719       -1.250725   1.007005    0.984442       0.840192  \n",
       "3099          0.224657       -0.137696   0.811978    0.944540      -0.452577  \n",
       "\n",
       "[5 rows x 25 columns]"
      ]
     },
     "execution_count": 4,
     "metadata": {},
     "output_type": "execute_result"
    }
   ],
   "source": [
    "df.sample(5)"
   ]
  },
  {
   "cell_type": "markdown",
   "id": "989ed212-433d-4955-be74-e9e9f574170a",
   "metadata": {
    "tags": []
   },
   "source": [
    "## A. Split Data Train & Test "
   ]
  },
  {
   "cell_type": "code",
   "execution_count": 5,
   "id": "135be065-2d82-40cf-80ef-d1e1e576805b",
   "metadata": {},
   "outputs": [],
   "source": [
    "#X = df[[col for col in df.columns if col not in ['VisitorType','Revenue','yj_ExitRates']]]\n",
    "X = df[[col for col in df.columns if col not in ['VisitorType','Revenue','yj_ExitRates','totalPage_visit','total_duration','adm_rasio','info_rasio','product_rasio']]]\n",
    "y = df['Revenue']"
   ]
  },
  {
   "cell_type": "code",
   "execution_count": 6,
   "id": "bc2ba87b-6a1e-446c-b2b5-46419ef5b3f7",
   "metadata": {},
   "outputs": [],
   "source": [
    "X_train, X_test, y_train, y_test = train_test_split(X, y, test_size=0.2, random_state=123)"
   ]
  },
  {
   "cell_type": "markdown",
   "id": "85643ca6-a1cf-461d-826c-f734dfc436f1",
   "metadata": {
    "tags": []
   },
   "source": [
    "## Metrics Model"
   ]
  },
  {
   "cell_type": "code",
   "execution_count": 7,
   "id": "d89e0427-1c34-4d04-bf3a-9d02c673b372",
   "metadata": {},
   "outputs": [],
   "source": [
    "from sklearn.metrics import accuracy_score, precision_score, recall_score, f1_score, roc_auc_score\n",
    "from sklearn.model_selection import cross_validate\n",
    "\n",
    "def eval_classification(model):\n",
    "    y_pred = model.predict(X_test)\n",
    "    y_pred_train = model.predict(X_train)\n",
    "    y_pred_proba = model.predict_proba(X_test)\n",
    "    y_pred_proba_train = model.predict_proba(X_train)\n",
    "    \n",
    "    print(\"Accuracy (Test Set): %.2f\" % accuracy_score(y_test, y_pred))\n",
    "    print(\"Precision (Test Set): %.2f\" % precision_score(y_test, y_pred))\n",
    "    print(\"Recall (Test Set): %.2f\" % recall_score(y_test, y_pred))\n",
    "    print(\"F1-Score (Test Set): %.2f\" % f1_score(y_test, y_pred))\n",
    "    \n",
    "    print(\"roc_auc (test-proba): %.2f\" % roc_auc_score(y_test, y_pred_proba[:, 1]))\n",
    "    print(\"roc_auc (train-proba): %.2f\" % roc_auc_score(y_train, y_pred_proba_train[:, 1]))\n",
    "\n",
    "    score = cross_validate(model, X, y, cv=5, scoring='roc_auc', return_train_score=True)\n",
    "    print('roc_auc (crossval train): '+ str(score['train_score'].mean()))\n",
    "    print('roc_auc (crossval test): '+ str(score['test_score'].mean()))\n",
    "    \n",
    "\n",
    "def show_feature_importance(model):\n",
    "    feat_importances = pd.Series(model.feature_importances_, index=X.columns)\n",
    "    ax = feat_importances.nlargest(25).plot(kind='barh', figsize=(10, 8))\n",
    "    ax.invert_yaxis()\n",
    "\n",
    "    plt.xlabel('score')\n",
    "    plt.ylabel('feature')\n",
    "    plt.title('feature importance score')\n",
    "\n",
    "def show_best_hyperparameter(model):\n",
    "    print(model.best_estimator_.get_params())"
   ]
  },
  {
   "cell_type": "code",
   "execution_count": 8,
   "id": "7e754982-ee3b-439c-a9b5-223d6e23b4a2",
   "metadata": {},
   "outputs": [],
   "source": [
    "import numpy as np\n",
    "from matplotlib import pyplot as plt\n",
    "from sklearn.linear_model import LogisticRegression\n",
    "from sklearn.neighbors import KNeighborsClassifier\n",
    "from sklearn.tree import DecisionTreeClassifier\n",
    "\n",
    "def draw_learning_curve(param_values):\n",
    "    train_scores = []\n",
    "    test_scores = []\n",
    "\n",
    "    for c in param_values:\n",
    "        model = LogisticRegression(penalty='l2', C=c)\n",
    "        model.fit(X_train, y_train)\n",
    "\n",
    "        # eval on train\n",
    "        y_pred_train_proba = model.predict_proba(X_train)\n",
    "        train_auc = roc_auc_score(y_train, y_pred_train_proba[:,1])\n",
    "        train_scores.append(train_auc)\n",
    "\n",
    "        # eval on test\n",
    "        y_pred_proba = model.predict_proba(X_test)\n",
    "        test_auc = roc_auc_score(y_test, y_pred_proba[:,1])\n",
    "        test_scores.append(test_auc)\n",
    "\n",
    "        print('param value: ' + str(c) + '; train: ' + str(train_auc) + '; test: '+ str(test_auc))\n",
    "\n",
    "    plt.plot(param_values, train_scores, label='Train')\n",
    "    plt.plot(param_values, test_scores, label='Test')\n",
    "    plt.xlabel('C')\n",
    "    plt.ylabel('AUC')\n",
    "    plt.title('Learning Curve - Hyperparameter C - Logistic Regression')\n",
    "    plt.legend()\n",
    "    plt.show()"
   ]
  },
  {
   "cell_type": "markdown",
   "id": "a9322bfa-6106-4bdc-a35e-d2cfcacc7b54",
   "metadata": {},
   "source": [
    "## Logistic Regression"
   ]
  },
  {
   "cell_type": "code",
   "execution_count": 9,
   "id": "9a95b99d-dc75-47f5-9f5e-b64fcf164a77",
   "metadata": {},
   "outputs": [
    {
     "name": "stdout",
     "output_type": "stream",
     "text": [
      "Accuracy (Test Set): 0.88\n",
      "Precision (Test Set): 0.66\n",
      "Recall (Test Set): 0.59\n",
      "F1-Score (Test Set): 0.62\n",
      "roc_auc (test-proba): 0.91\n",
      "roc_auc (train-proba): 0.90\n",
      "roc_auc (crossval train): 0.9028102780148334\n",
      "roc_auc (crossval test): 0.881729462893464\n"
     ]
    }
   ],
   "source": [
    "from sklearn.linear_model import LogisticRegression # import logistic regression dari sklearn\n",
    "logreg = LogisticRegression() # inisiasi object dengan nama logreg\n",
    "logreg.fit(X_train, y_train) # fit model regression dari data train\n",
    "eval_classification(logreg)"
   ]
  },
  {
   "cell_type": "code",
   "execution_count": 10,
   "id": "7272db2c-292d-4073-aa18-f586d2e06f62",
   "metadata": {},
   "outputs": [
    {
     "data": {
      "text/plain": [
       "Index(['Month', 'OperatingSystems', 'Browser', 'Region', 'TrafficType',\n",
       "       'Weekend', 'yj_Administrative', 'yj_Administrative_Duration',\n",
       "       'yj_Informational', 'yj_Informational_Duration', 'yj_ProductRelated',\n",
       "       'yj_ProductRelated_Duration', 'yj_BounceRates', 'yj_PageValues',\n",
       "       'yj_SpecialDay', 'visitor_type_Other',\n",
       "       'visitor_type_Returning_Visitor'],\n",
       "      dtype='object')"
      ]
     },
     "execution_count": 10,
     "metadata": {},
     "output_type": "execute_result"
    }
   ],
   "source": [
    "X.columns"
   ]
  },
  {
   "cell_type": "code",
   "execution_count": 11,
   "id": "97913085-dffa-42e5-a0c4-e03092699427",
   "metadata": {},
   "outputs": [
    {
     "data": {
      "text/plain": [
       "array([[ 0.10906931, -0.04685923, -0.00430406, -0.0222549 , -0.0229776 ,\n",
       "         0.09935259, -0.16870495, -0.04884825,  0.25189254, -0.25444101,\n",
       "        -0.01145592,  0.10222193, -0.45122176,  1.50475341, -0.12508458,\n",
       "        -0.69040274, -0.85145036]])"
      ]
     },
     "execution_count": 11,
     "metadata": {},
     "output_type": "execute_result"
    }
   ],
   "source": [
    "logreg.coef_"
   ]
  },
  {
   "cell_type": "code",
   "execution_count": 21,
   "id": "84688973-d55f-4724-9353-466059b1eabd",
   "metadata": {},
   "outputs": [
    {
     "name": "stdout",
     "output_type": "stream",
     "text": [
      "Accuracy (Test Set): 0.83\n",
      "Precision (Test Set): 0.80\n",
      "Recall (Test Set): 0.01\n",
      "F1-Score (Test Set): 0.02\n",
      "roc_auc (test-proba): 0.90\n",
      "roc_auc (train-proba): 0.90\n",
      "roc_auc (crossval train): 0.897304312229474\n",
      "roc_auc (crossval test): 0.8837809823707866\n"
     ]
    }
   ],
   "source": [
    "from sklearn.model_selection import RandomizedSearchCV\n",
    "\n",
    "penalty = ['l1', 'l2']\n",
    "C = [float(x) for x in np.linspace(0.00001, 0.0005, 100)]\n",
    "hyperparameters = dict(penalty=penalty, C=C)\n",
    "\n",
    "logreg = LogisticRegression()\n",
    "rs = RandomizedSearchCV(logreg, hyperparameters, scoring='roc_auc', random_state=1, cv=5, n_iter=50)\n",
    "rs.fit(X_train, y_train)\n",
    "eval_classification(rs)"
   ]
  },
  {
   "cell_type": "code",
   "execution_count": 20,
   "id": "ef37e4a3-26d8-485b-9eab-3b041136a0ec",
   "metadata": {},
   "outputs": [
    {
     "name": "stdout",
     "output_type": "stream",
     "text": [
      "param value: 1e-05; train: 0.8000141160171681; test: 0.8020666357237533\n",
      "param value: 1.494949494949495e-05; train: 0.8060914413924958; test: 0.8076722475560681\n",
      "param value: 1.9898989898989898e-05; train: 0.8118561285181706; test: 0.8130421987970542\n",
      "param value: 2.484848484848485e-05; train: 0.8172813359411583; test: 0.8180161923947422\n",
      "param value: 2.9797979797979796e-05; train: 0.8223271248729074; test: 0.822624134515544\n",
      "param value: 3.474747474747475e-05; train: 0.8270555055377474; test: 0.8270945082708494\n",
      "param value: 3.9696969696969695e-05; train: 0.831517088627244; test: 0.8311426069564137\n",
      "param value: 4.464646464646465e-05; train: 0.8356809903008571; test: 0.8350710809763288\n",
      "param value: 4.9595959595959594e-05; train: 0.8395804389838795; test: 0.8386490547258921\n",
      "param value: 5.454545454545454e-05; train: 0.8431868954205248; test: 0.8420739089034246\n",
      "param value: 5.949494949494949e-05; train: 0.8465454726553506; test: 0.8452798499428192\n",
      "param value: 6.444444444444444e-05; train: 0.8497381503069626; test: 0.8483015689971147\n",
      "param value: 6.939393939393939e-05; train: 0.8527100327530404; test: 0.8511199261198066\n",
      "param value: 7.434343434343434e-05; train: 0.8554645155990884; test: 0.8538066961102845\n",
      "param value: 7.92929292929293e-05; train: 0.8580463884986638; test: 0.8562446467962121\n",
      "param value: 8.424242424242424e-05; train: 0.8604513665210114; test: 0.858607233942781\n",
      "param value: 8.919191919191919e-05; train: 0.8627132440256746; test: 0.8608358414638231\n",
      "param value: 9.414141414141413e-05; train: 0.8648288679503997; test: 0.8627450511275822\n",
      "param value: 9.909090909090908e-05; train: 0.866817399211961; test: 0.8646817744644404\n",
      "param value: 0.00010404040404040404; train: 0.8686695403190964; test: 0.8664857144224283\n",
      "param value: 0.00010898989898989899; train: 0.8703817339708015; test: 0.8681688334681105\n",
      "param value: 0.00011393939393939393; train: 0.871985268246367; test: 0.8698340088139455\n",
      "param value: 0.00011888888888888889; train: 0.8734731093915333; test: 0.8713293171345586\n",
      "param value: 0.00012383838383838385; train: 0.8748708052953337; test: 0.8728234292085155\n",
      "param value: 0.00012878787878787878; train: 0.8761781942622676; test: 0.8742397852498002\n",
      "param value: 0.00013373737373737374; train: 0.8774208241813679; test: 0.8755066104590239\n",
      "param value: 0.00013868686868686867; train: 0.8785453355375664; test: 0.876753099475087\n",
      "param value: 0.00014363636363636363; train: 0.8796224701122037; test: 0.8778823563188141\n",
      "param value: 0.0001485858585858586; train: 0.8806477004312743; test: 0.8789230909099609\n",
      "param value: 0.00015353535353535353; train: 0.8815874746784846; test: 0.8799087981549091\n",
      "param value: 0.00015848484848484848; train: 0.8824561029056035; test: 0.8808622067401323\n",
      "param value: 0.00016343434343434342; train: 0.8832805074134152; test: 0.8817187193461793\n",
      "param value: 0.00016838383838383838; train: 0.884048965278155; test: 0.8825776244455398\n",
      "param value: 0.00017333333333333334; train: 0.8847789396138453; test: 0.883361166005541\n",
      "param value: 0.00017828282828282827; train: 0.8854500567874597; test: 0.8841375300856034\n",
      "param value: 0.00018323232323232323; train: 0.8860741205705136; test: 0.8847882882667342\n",
      "param value: 0.00018818181818181816; train: 0.886671585443783; test: 0.8854593826410255\n",
      "param value: 0.00019313131313131312; train: 0.8872273328779988; test: 0.8860910008756525\n",
      "param value: 0.00019808080808080808; train: 0.8877523581671751; test: 0.8867585065099742\n",
      "param value: 0.000203030303030303; train: 0.8882276620900371; test: 0.8872752850655783\n",
      "param value: 0.00020797979797979797; train: 0.8886798435563696; test: 0.8878315397608463\n",
      "param value: 0.00021292929292929293; train: 0.8891026772894143; test: 0.8883614770296717\n",
      "param value: 0.00021787878787878786; train: 0.8895026311091794; test: 0.8888387794456114\n",
      "param value: 0.00022282828282828282; train: 0.8898870621609245; test: 0.8892730169819176\n",
      "param value: 0.00022777777777777778; train: 0.8902423071748822; test: 0.8897120395048496\n",
      "param value: 0.00023272727272727271; train: 0.8905813826388189; test: 0.8901474732878122\n",
      "param value: 0.00023767676767676767; train: 0.8909033992274836; test: 0.8905230947379502\n",
      "param value: 0.0002426262626262626; train: 0.8911946128233587; test: 0.890925033614531\n",
      "param value: 0.0002475757575757576; train: 0.8914585807274487; test: 0.8912934775847302\n",
      "param value: 0.0002525252525252525; train: 0.8917223060882883; test: 0.8916033054687612\n",
      "param value: 0.0002574747474747475; train: 0.8919736617433621; test: 0.8919083483661663\n",
      "param value: 0.00026242424242424244; train: 0.8922048863086599; test: 0.8921882700837851\n",
      "param value: 0.0002673737373737374; train: 0.8924174350436838; test: 0.8925028829544422\n",
      "param value: 0.00027232323232323236; train: 0.8926191501801936; test: 0.8927863934120304\n",
      "param value: 0.0002772727272727273; train: 0.8928196526004516; test: 0.8930184652633897\n",
      "param value: 0.00028222222222222223; train: 0.893007704467194; test: 0.8932732658012221\n",
      "param value: 0.0002871717171717172; train: 0.8931865396904243; test: 0.8935244775990852\n",
      "param value: 0.00029212121212121215; train: 0.8933492053636338; test: 0.8937505682171619\n",
      "param value: 0.0002970707070707071; train: 0.8935007140473288; test: 0.8939539301487652\n",
      "param value: 0.000302020202020202; train: 0.8936512525580227; test: 0.894165665806964\n",
      "param value: 0.000306969696969697; train: 0.8937915234044534; test: 0.8943295515989033\n",
      "param value: 0.00031191919191919193; train: 0.8939241137146242; test: 0.8945329135305068\n",
      "param value: 0.00031686868686868686; train: 0.8940485384020346; test: 0.894694406829133\n",
      "param value: 0.00032181818181818185; train: 0.8941719120686935; test: 0.8948726475809501\n",
      "param value: 0.0003267676767676768; train: 0.894287200960342; test: 0.895072420772584\n",
      "param value: 0.0003317171717171717; train: 0.8944021664609901; test: 0.8952398953044927\n",
      "param value: 0.0003366666666666667; train: 0.8945076727748758; test: 0.8954025848497753\n",
      "param value: 0.00034161616161616163; train: 0.8946054177047519; test: 0.8955736481216534\n",
      "param value: 0.00034656565656565657; train: 0.8947092262158856; test: 0.8957351414202797\n",
      "param value: 0.00035151515151515155; train: 0.8947982395887503; test: 0.8958595510725547\n",
      "param value: 0.0003564646464646465; train: 0.8948946101068743; test: 0.8959827644781734\n",
      "param value: 0.0003614141414141414; train: 0.8949929209710009; test: 0.8961119591170743\n",
      "param value: 0.00036636363636363635; train: 0.8950894531846252; test: 0.8962507237292272\n",
      "param value: 0.00037131313131313134; train: 0.8951768496024878; test: 0.8963583859283113\n",
      "param value: 0.00037626262626262627; train: 0.895253897508337; test: 0.896469636867365\n",
      "param value: 0.0003812121212121212; train: 0.8953236691166769; test: 0.8965964390129529\n",
      "param value: 0.0003861616161616162; train: 0.8953965129395207; test: 0.8966957274854417\n",
      "param value: 0.0003911111111111111; train: 0.8954700035443655; test: 0.8968249221243426\n",
      "param value: 0.00039606060606060605; train: 0.8955399368482057; test: 0.8969481355299612\n",
      "param value: 0.00040101010101010104; train: 0.8956104360862962; test: 0.897049816495763\n",
      "param value: 0.00040595959595959597; train: 0.8956736590268777; test: 0.8971586749415035\n",
      "param value: 0.0004109090909090909; train: 0.895740035029713; test: 0.8972890658270609\n",
      "param value: 0.0004158585858585859; train: 0.8958026920360439; test: 0.8973716068463589\n",
      "param value: 0.0004208080808080808; train: 0.8958671276928769; test: 0.897481661538756\n",
      "param value: 0.00042575757575757575; train: 0.8959364950624662; test: 0.897547455104863\n",
      "param value: 0.00043070707070707074; train: 0.8960044880203039; test: 0.8976622947838861\n",
      "param value: 0.00043565656565656567; train: 0.8960685194383863; test: 0.8977436395565275\n",
      "param value: 0.0004406060606060606; train: 0.8961279425347127; test: 0.8978369467957337\n",
      "param value: 0.0004455555555555556; train: 0.8961904378455432; test: 0.8979182915683751\n",
      "param value: 0.0004505050505050505; train: 0.896251639592372; test: 0.8980295425074286\n",
      "param value: 0.00045545454545454546; train: 0.8963089606471959; test: 0.8981455784331083\n",
      "param value: 0.0004604040404040404; train: 0.8963615116847636; test: 0.8982257269590931\n",
      "param value: 0.0004653535353535354; train: 0.8964193986738384; test: 0.8983046792384215\n",
      "param value: 0.0004703030303030303; train: 0.896477447358413; test: 0.8983824352710934\n",
      "param value: 0.00047525252525252524; train: 0.8965337982402355; test: 0.8984661725370477\n",
      "param value: 0.0004802020202020202; train: 0.8965952425303146; test: 0.8985319661031548\n",
      "param value: 0.00048515151515151516; train: 0.8966497339138849; test: 0.8986073296425137\n",
      "param value: 0.00049010101010101; train: 0.8967021232559523; test: 0.8986982443884068\n",
      "param value: 0.000495050505050505; train: 0.8967490957987628; test: 0.8987951403675826\n",
      "param value: 0.0005; train: 0.8967994639470778; test: 0.8988740926469111\n"
     ]
    },
    {
     "data": {
      "image/png": "[encoded data removed]",
      "text/plain": [
       "<Figure size 432x288 with 1 Axes>"
      ]
     },
     "metadata": {
      "needs_background": "light"
     },
     "output_type": "display_data"
    }
   ],
   "source": [
    "# learning curve\n",
    "import numpy as np\n",
    "param_values = [float(x) for x in np.linspace(0.00001, 0.0005, 100)]\n",
    "draw_learning_curve(param_values)"
   ]
  },
  {
   "cell_type": "markdown",
   "id": "4fb533d1-ddb9-4a25-b79f-40c1da637730",
   "metadata": {},
   "source": [
    "## Decision Tree"
   ]
  },
  {
   "cell_type": "code",
   "execution_count": 22,
   "id": "3565380c-8cdf-4ff2-b05a-9d2e9e3690e4",
   "metadata": {},
   "outputs": [
    {
     "name": "stdout",
     "output_type": "stream",
     "text": [
      "Accuracy (Test Set): 0.86\n",
      "Precision (Test Set): 0.58\n",
      "Recall (Test Set): 0.56\n",
      "F1-Score (Test Set): 0.57\n",
      "roc_auc (test-proba): 0.74\n",
      "roc_auc (train-proba): 1.00\n",
      "roc_auc (crossval train): 1.0\n",
      "roc_auc (crossval test): 0.7235021837672255\n"
     ]
    }
   ],
   "source": [
    "# decision tree\n",
    "from sklearn.tree import DecisionTreeClassifier # import decision tree dari sklearn\n",
    "dt = DecisionTreeClassifier() # inisiasi object dengan nama dt\n",
    "dt.fit(X_train, y_train) # fit model decision tree dari data train\n",
    "eval_classification(dt)"
   ]
  },
  {
   "cell_type": "markdown",
   "id": "c0348c8b-b41d-4056-8f2f-59974270f84a",
   "metadata": {},
   "source": [
    "from sklearn.model_selection import RandomizedSearchCV, GridSearchCV\n",
    "from scipy.stats import uniform\n",
    "import numpy as np\n",
    "\n",
    "# List of hyperparameter\n",
    "max_depth = [int(x) for x in np.linspace(1, 110, num = 30)] # Maximum number of levels in tree\n",
    "min_samples_split = [2, 5, 10, 100] # Minimum number of samples required to split a node\n",
    "min_samples_leaf = [1, 2, 4, 10, 20, 50] # Minimum number of samples required at each leaf node\n",
    "max_features = ['auto', 'sqrt'] # Number of features to consider at every split\n",
    "criterion = ['gini','entropy']\n",
    "splitter = ['best','random']\n",
    "\n",
    "hyperparameters = dict(max_depth=max_depth, \n",
    "                       min_samples_split=min_samples_split, \n",
    "                       min_samples_leaf=min_samples_leaf,\n",
    "                       max_features=max_features,\n",
    "                       criterion=criterion,\n",
    "                       splitter=splitter\n",
    "                      )\n",
    "\n",
    "# Inisialisasi Model\n",
    "dt = DecisionTreeClassifier(random_state=42)\n",
    "model = GridSearchCV(dt, hyperparameters, cv=5, scoring='precision')\n",
    "model.fit(X_train, y_train)\n",
    "\n",
    "# Predict & Evaluation\n",
    "y_pred = model.predict(X_test)#Check performa dari model\n",
    "eval_classification(model)"
   ]
  },
  {
   "cell_type": "markdown",
   "id": "42932c61-ae6d-4cce-a25b-62dfb1b5cd40",
   "metadata": {},
   "source": [
    "show_feature_importance(model.best_estimator_)"
   ]
  },
  {
   "cell_type": "markdown",
   "id": "ba761acd-091b-480a-a216-9b6caee53336",
   "metadata": {},
   "source": [
    "## k-Nearest Neighbor"
   ]
  },
  {
   "cell_type": "code",
   "execution_count": 23,
   "id": "3bd2b1fe-c1dd-4689-9ecb-19ba569e7972",
   "metadata": {},
   "outputs": [
    {
     "name": "stdout",
     "output_type": "stream",
     "text": [
      "Accuracy (Test Set): 0.88\n",
      "Precision (Test Set): 0.66\n",
      "Recall (Test Set): 0.55\n",
      "F1-Score (Test Set): 0.60\n",
      "roc_auc (test-proba): 0.87\n",
      "roc_auc (train-proba): 0.96\n",
      "roc_auc (crossval train): 0.9603527385820231\n",
      "roc_auc (crossval test): 0.8464350934431533\n"
     ]
    }
   ],
   "source": [
    "from sklearn.neighbors import KNeighborsClassifier # import knn dari sklearn\n",
    "knn = KNeighborsClassifier() # inisiasi object dengan nama knn\n",
    "knn.fit(X_train, y_train) # fit model KNN dari data train\n",
    "eval_classification(knn)"
   ]
  },
  {
   "cell_type": "code",
   "execution_count": 24,
   "id": "b531f8cd-2a28-4830-8edc-5c9fa5135461",
   "metadata": {},
   "outputs": [
    {
     "name": "stdout",
     "output_type": "stream",
     "text": [
      "Accuracy (Test Set): 0.87\n",
      "Precision (Test Set): 0.69\n",
      "Recall (Test Set): 0.42\n",
      "F1-Score (Test Set): 0.52\n",
      "roc_auc (test-proba): 0.91\n",
      "roc_auc (train-proba): 0.93\n",
      "roc_auc (crossval train): 0.9323675943571628\n",
      "roc_auc (crossval test): 0.8909132321384096\n"
     ]
    }
   ],
   "source": [
    "from sklearn.model_selection import RandomizedSearchCV\n",
    "\n",
    "n_neighbors = list(range(1,30))\n",
    "p=[1,2]\n",
    "algorithm = ['auto', 'ball_tree', 'kd_tree', 'brute']\n",
    "hyperparameters = dict(n_neighbors=n_neighbors, p=p, algorithm=algorithm)\n",
    "\n",
    "knn.fit(X_train, y_train)\n",
    "rs = RandomizedSearchCV(knn, hyperparameters, scoring='roc_auc', random_state=1, cv=5)\n",
    "rs.fit(X_train, y_train)\n",
    "eval_classification(rs)"
   ]
  },
  {
   "cell_type": "markdown",
   "id": "b2a741a9-929a-413c-b61b-7a929c3df3ff",
   "metadata": {},
   "source": [
    "# Oversampling Data"
   ]
  },
  {
   "cell_type": "code",
   "execution_count": 25,
   "id": "c339c3d2-bb2b-4b31-8ddc-5e6650ffd10e",
   "metadata": {},
   "outputs": [
    {
     "name": "stdout",
     "output_type": "stream",
     "text": [
      "Nilai unik target sebelum oversampling:\n",
      " False    10297\n",
      "True      1908\n",
      "Name: Revenue, dtype: int64\n",
      "Nilai unik target sesudah oversampling:\n",
      " False    8268\n",
      "True     4960\n",
      "Name: Revenue, dtype: int64\n"
     ]
    }
   ],
   "source": [
    "X_train_over_SMOTE, y_train_over_SMOTE = over_sampling.SMOTE(0.6,random_state=123).fit_resample(X_train, y_train)\n",
    "print('Nilai unik target sebelum oversampling:\\n', pd.Series(y).value_counts())\n",
    "print('Nilai unik target sesudah oversampling:\\n', pd.Series(y_train_over_SMOTE).value_counts())"
   ]
  },
  {
   "cell_type": "code",
   "execution_count": 26,
   "id": "9f46e91a-56de-4e48-b2d9-85ed3bec2c27",
   "metadata": {},
   "outputs": [],
   "source": [
    "X_train = X_train_over_SMOTE\n",
    "y_train = y_train_over_SMOTE"
   ]
  },
  {
   "cell_type": "markdown",
   "id": "4597bfb4-8de4-47c9-b181-f6ee303cc470",
   "metadata": {},
   "source": [
    "## Logistic Regression"
   ]
  },
  {
   "cell_type": "code",
   "execution_count": 27,
   "id": "18f6ea67-9ea2-46bd-b6e3-e7936fa37a94",
   "metadata": {},
   "outputs": [
    {
     "name": "stdout",
     "output_type": "stream",
     "text": [
      "Accuracy (Test Set): 0.87\n",
      "Precision (Test Set): 0.58\n",
      "Recall (Test Set): 0.78\n",
      "F1-Score (Test Set): 0.67\n",
      "roc_auc (test-proba): 0.90\n",
      "roc_auc (train-proba): 0.92\n",
      "roc_auc (crossval train): 0.9028102780148334\n",
      "roc_auc (crossval test): 0.881729462893464\n"
     ]
    }
   ],
   "source": [
    "from sklearn.linear_model import LogisticRegression # import logistic regression dari sklearn\n",
    "\n",
    "logreg = LogisticRegression() # inisiasi object dengan nama logreg\n",
    "logreg.fit(X_train, y_train) # fit model regression dari data train\n",
    "eval_classification(logreg)"
   ]
  },
  {
   "cell_type": "code",
   "execution_count": 30,
   "id": "628e9e02-f5d9-4dfd-9f20-2afde22e96f3",
   "metadata": {},
   "outputs": [
    {
     "name": "stdout",
     "output_type": "stream",
     "text": [
      "Accuracy (Test Set): 0.87\n",
      "Precision (Test Set): 0.59\n",
      "Recall (Test Set): 0.76\n",
      "F1-Score (Test Set): 0.67\n",
      "roc_auc (test-proba): 0.90\n",
      "roc_auc (train-proba): 0.91\n",
      "roc_auc (crossval train): 0.897304312229474\n",
      "roc_auc (crossval test): 0.8837809823707866\n"
     ]
    }
   ],
   "source": [
    "from sklearn.model_selection import RandomizedSearchCV\n",
    "\n",
    "penalty = ['l1', 'l2']\n",
    "C = [float(x) for x in np.linspace(0.00001, 0.0005, 100)]\n",
    "hyperparameters = dict(penalty=penalty, C=C)\n",
    "\n",
    "logreg = LogisticRegression()\n",
    "rs = RandomizedSearchCV(logreg, hyperparameters, scoring='roc_auc', random_state=1, cv=5, n_iter=50)\n",
    "rs.fit(X_train, y_train)\n",
    "eval_classification(rs)"
   ]
  },
  {
   "cell_type": "code",
   "execution_count": 36,
   "id": "e74fedd0-b921-48f0-a8bb-6623a6fea847",
   "metadata": {},
   "outputs": [
    {
     "name": "stdout",
     "output_type": "stream",
     "text": [
      "param value: 1e-05; train: 0.8247382543658411; test: 0.8152911425112568\n",
      "param value: 1.9999999999999998e-05; train: 0.8455167464534856; test: 0.8344358740017321\n",
      "param value: 2.9999999999999997e-05; train: 0.8600532611155328; test: 0.8482046730179388\n",
      "param value: 3.9999999999999996e-05; train: 0.8703465898450302; test: 0.8583249197318494\n",
      "param value: 4.9999999999999996e-05; train: 0.8778354313950404; test: 0.8658528999411446\n",
      "param value: 5.9999999999999995e-05; train: 0.883306729598764; test: 0.8717695359041473\n",
      "param value: 7e-05; train: 0.8873883667306522; test: 0.8762399096594525\n",
      "param value: 7.999999999999999e-05; train: 0.8905044419214382; test: 0.8797150061965577\n",
      "param value: 8.999999999999999e-05; train: 0.8928967053310862; test: 0.8824914946862723\n",
      "param value: 9.999999999999999e-05; train: 0.8947696960297766; test: 0.8847894845133908\n",
      "param value: 0.00010999999999999999; train: 0.8962745749254802; test: 0.8865383971251801\n",
      "param value: 0.00011999999999999999; train: 0.8974762053857078; test: 0.8880576303789232\n",
      "param value: 0.00013; train: 0.8984688099864225; test: 0.8893663242211237\n",
      "param value: 0.00014; train: 0.8992772611467453; test: 0.8903436577394765\n",
      "param value: 0.00015; train: 0.8999870273264978; test: 0.8912492164584399\n",
      "param value: 0.00015999999999999999; train: 0.9005939631224932; test: 0.8919681606989908\n",
      "param value: 0.00016999999999999999; train: 0.9011257695819093; test: 0.8926249001134041\n",
      "param value: 0.00017999999999999998; train: 0.9016021007927962; test: 0.8932254159349624\n",
      "param value: 0.00018999999999999998; train: 0.9020332471089471; test: 0.8937756893969482\n",
      "param value: 0.00019999999999999998; train: 0.9024240854752875; test: 0.8942266743864451\n",
      "param value: 0.00020999999999999998; train: 0.9027869545624794; test: 0.8946429682229038\n",
      "param value: 0.00021999999999999998; train: 0.9031236344554208; test: 0.8950126084397595\n",
      "param value: 0.00022999999999999998; train: 0.9034403188741671; test: 0.8953786599166456\n",
      "param value: 0.00023999999999999998; train: 0.9037312530237058; test: 0.8957100202404935\n",
      "param value: 0.00025; train: 0.9040058494077439; test: 0.8960760717173797\n",
      "param value: 0.00026000000000000003; train: 0.9042661563431497; test: 0.8963703483948762\n",
      "param value: 0.00027; train: 0.9045212205627604; test: 0.89663830764593\n",
      "param value: 0.00028; train: 0.9047594105529285; test: 0.8969050706503275\n",
      "param value: 0.00029; train: 0.9049912361299687; test: 0.8971191988018393\n",
      "param value: 0.00030000000000000003; train: 0.9052115033475351; test: 0.8973440931732597\n",
      "param value: 0.00031; train: 0.9054240893768436; test: 0.8975187451851072\n",
      "param value: 0.00031999999999999997; train: 0.9056274092107932; test: 0.8977388545699014\n",
      "param value: 0.00033; train: 0.9058317532031774; test: 0.8979565714613829\n",
      "param value: 0.00034; train: 0.9060200520467562; test: 0.8981336159665434\n",
      "param value: 0.00035; train: 0.9062064976512634; test: 0.8982699880853834\n",
      "param value: 0.00035999999999999997; train: 0.9063930164099443; test: 0.8984195189174446\n",
      "param value: 0.00037; train: 0.9065674403452098; test: 0.8985666572561931\n",
      "param value: 0.00038; train: 0.9067289403764223; test: 0.8987257580615063\n",
      "param value: 0.00039; train: 0.9068880507046211; test: 0.8988800738801936\n",
      "param value: 0.00039999999999999996; train: 0.9070417720086771; test: 0.8990044835324685\n",
      "param value: 0.00041; train: 0.9071980537088192; test: 0.8991671730777513\n",
      "param value: 0.00042; train: 0.9073498242349048; test: 0.8992915827300262\n",
      "param value: 0.00043; train: 0.9074971079716592; test: 0.8994315435888356\n",
      "param value: 0.00043999999999999996; train: 0.9076474154142672; test: 0.8995667194610191\n",
      "param value: 0.00045; train: 0.9077788978494623; test: 0.8996624191935384\n",
      "param value: 0.00046; train: 0.9079132576821637; test: 0.8997497451994623\n",
      "param value: 0.00047; train: 0.908042106567099; test: 0.8998394636986989\n",
      "param value: 0.00047999999999999996; train: 0.9081674684364125; test: 0.8999279859512793\n",
      "param value: 0.00049; train: 0.9082900504471183; test: 0.9000500031102414\n",
      "param value: 0.0005; train: 0.9084109011423758; test: 0.9001241704029437\n",
      "param value: 0.00051; train: 0.9085292645957207; test: 0.9001839827357683\n",
      "param value: 0.00052; train: 0.9086514320661081; test: 0.9002940374281653\n",
      "param value: 0.00053; train: 0.9087725509933361; test: 0.9003993071339366\n",
      "param value: 0.00054; train: 0.9088840867237855; test: 0.9005249130328682\n",
      "param value: 0.0005499999999999999; train: 0.9089914282815986; test: 0.9005488379659978\n",
      "param value: 0.00056; train: 0.9090948682834715; test: 0.9006170240254178\n",
      "param value: 0.00057; train: 0.9092007467578072; test: 0.9007258824711585\n",
      "param value: 0.00058; train: 0.9093007241287826; test: 0.9007725360907617\n",
      "param value: 0.00059; train: 0.9094082607643929; test: 0.9008766095498763\n",
      "param value: 0.0006; train: 0.909502361416733; test: 0.9009435993626398\n",
      "param value: 0.00061; train: 0.9096019974015637; test: 0.9010046079421208\n",
      "param value: 0.00062; train: 0.9096950738954696; test: 0.9010835602214492\n",
      "param value: 0.0006299999999999999; train: 0.9097837855236669; test: 0.9011373913209911\n",
      "param value: 0.0006399999999999999; train: 0.9098698636016044; test: 0.9011864374339074\n",
      "param value: 0.00065; train: 0.9099529667431371; test: 0.9012414647801059\n",
      "param value: 0.00066; train: 0.9100385083571328; test: 0.9013228095527474\n",
      "param value: 0.00067; train: 0.910120806802753; test: 0.9014125280519841\n",
      "param value: 0.0006799999999999999; train: 0.9101951558281441; test: 0.9014795178647476\n",
      "param value: 0.00069; train: 0.9102750401860263; test: 0.9015285639776636\n",
      "param value: 0.0007; train: 0.9103525104561699; test: 0.9015776100905799\n",
      "param value: 0.0007099999999999999; train: 0.9104282250261404; test: 0.9016230674635264\n",
      "param value: 0.0007199999999999999; train: 0.9105062317602259; test: 0.9016625436031906\n",
      "param value: 0.00073; train: 0.9105808246328634; test: 0.9017008234961983\n",
      "param value: 0.00074; train: 0.9106552711971535; test: 0.9017510658557708\n",
      "param value: 0.00075; train: 0.9107191591756792; test: 0.901800111968687\n",
      "param value: 0.0007599999999999999; train: 0.9107925815815346; test: 0.9018371956150382\n",
      "param value: 0.00077; train: 0.9108576400268427; test: 0.9018754755080459\n",
      "param value: 0.00078; train: 0.9109233568597157; test: 0.901919736634336\n",
      "param value: 0.0007899999999999999; train: 0.9109880739188788; test: 0.9019687827472523\n",
      "param value: 0.0007999999999999999; train: 0.9110539614448242; test: 0.9020214176001377\n",
      "param value: 0.00081; train: 0.9111135577118155; test: 0.9020585012464889\n",
      "param value: 0.00082; train: 0.9111745682928352; test: 0.9020860149195883\n",
      "param value: 0.00083; train: 0.9112375540365497; test: 0.9021386497724739\n",
      "param value: 0.0008399999999999999; train: 0.9112960529909327; test: 0.9021793221587946\n",
      "param value: 0.00085; train: 0.9113578926525899; test: 0.9022283682717107\n",
      "param value: 0.00086; train: 0.9114142945206548; test: 0.9022618631780925\n",
      "param value: 0.0008699999999999999; train: 0.9114721838569223; test: 0.9023109092910087\n",
      "param value: 0.0008799999999999999; train: 0.9115300731931895; test: 0.9023563666639551\n",
      "param value: 0.00089; train: 0.91158676767795; test: 0.9024113940101538\n",
      "param value: 0.0009; train: 0.911636219899496; test: 0.9024305339566575\n",
      "param value: 0.00091; train: 0.9116931094620535; test: 0.9024568513831005\n",
      "param value: 0.0009199999999999999; train: 0.9117444393073957; test: 0.9024747950829478\n",
      "param value: 0.0009299999999999999; train: 0.9117945499165068; test: 0.9025130749759555\n",
      "param value: 0.00094; train: 0.9118433437504877; test: 0.9025621210888717\n",
      "param value: 0.0009499999999999999; train: 0.9118932836665262; test: 0.9025657098288411\n",
      "param value: 0.0009599999999999999; train: 0.9119395414891459; test: 0.9025908310086274\n",
      "param value: 0.0009699999999999999; train: 0.911980190825101; test: 0.9026195409283831\n",
      "param value: 0.00098; train: 0.9120280092700968; test: 0.902631503394948\n",
      "param value: 0.00099; train: 0.9120700729200805; test: 0.9026769607678946\n",
      "param value: 0.001; train: 0.9121159893565555; test: 0.9027080631809632\n"
     ]
    },
    {
     "data": {
      "image/png": "[encoded data removed]",
      "text/plain": [
       "<Figure size 432x288 with 1 Axes>"
      ]
     },
     "metadata": {
      "needs_background": "light"
     },
     "output_type": "display_data"
    }
   ],
   "source": [
    "# learning curve\n",
    "import numpy as np\n",
    "param_values = [float(x) for x in np.linspace(0.00001, 0.001, 100)]\n",
    "draw_learning_curve(param_values)"
   ]
  },
  {
   "cell_type": "markdown",
   "id": "fb5e8917-3b0a-4a33-87c9-e288a8c2989a",
   "metadata": {},
   "source": [
    "## Decision Tree"
   ]
  },
  {
   "cell_type": "code",
   "execution_count": 28,
   "id": "373e5bbd-2b7b-4b68-b009-7bc73d230157",
   "metadata": {},
   "outputs": [
    {
     "name": "stdout",
     "output_type": "stream",
     "text": [
      "Accuracy (Test Set): 0.85\n",
      "Precision (Test Set): 0.54\n",
      "Recall (Test Set): 0.63\n",
      "F1-Score (Test Set): 0.58\n",
      "roc_auc (test-proba): 0.76\n",
      "roc_auc (train-proba): 1.00\n",
      "roc_auc (crossval train): 1.0\n",
      "roc_auc (crossval test): 0.7203785335713556\n"
     ]
    }
   ],
   "source": [
    "# decision tree\n",
    "from sklearn.tree import DecisionTreeClassifier # import decision tree dari sklearn\n",
    "dt = DecisionTreeClassifier() # inisiasi object dengan nama dt\n",
    "dt.fit(X_train, y_train) # fit model decision tree dari data train\n",
    "eval_classification(dt)"
   ]
  },
  {
   "cell_type": "markdown",
   "id": "4b18943f-df0a-4168-a16e-e7ee080adfb2",
   "metadata": {},
   "source": [
    "## k-Nearest Neighbor"
   ]
  },
  {
   "cell_type": "code",
   "execution_count": 29,
   "id": "3c267da3-9a64-421f-87d3-34c6569e08d0",
   "metadata": {},
   "outputs": [
    {
     "name": "stdout",
     "output_type": "stream",
     "text": [
      "Accuracy (Test Set): 0.85\n",
      "Precision (Test Set): 0.54\n",
      "Recall (Test Set): 0.78\n",
      "F1-Score (Test Set): 0.64\n",
      "roc_auc (test-proba): 0.87\n",
      "roc_auc (train-proba): 0.99\n",
      "roc_auc (crossval train): 0.9603527385820231\n",
      "roc_auc (crossval test): 0.8464350934431533\n"
     ]
    }
   ],
   "source": [
    "from sklearn.neighbors import KNeighborsClassifier # import knn dari sklearn\n",
    "knn = KNeighborsClassifier() # inisiasi object dengan nama knn\n",
    "knn.fit(X_train, y_train) # fit model KNN dari data train\n",
    "eval_classification(knn)"
   ]
  },
  {
   "cell_type": "code",
   "execution_count": null,
   "id": "d5e62e49-3a8a-4257-8730-0a801f9c5bc5",
   "metadata": {},
   "outputs": [],
   "source": []
  }
 ],
 "metadata": {
  "kernelspec": {
   "display_name": "Python 3 (ipykernel)",
   "language": "python",
   "name": "python3"
  },
  "language_info": {
   "codemirror_mode": {
    "name": "ipython",
    "version": 3
   },
   "file_extension": ".py",
   "mimetype": "text/x-python",
   "name": "python",
   "nbconvert_exporter": "python",
   "pygments_lexer": "ipython3",
   "version": "3.10.6"
  }
 },
 "nbformat": 4,
 "nbformat_minor": 5
}
