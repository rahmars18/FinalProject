{
 "cells": [
  {
   "cell_type": "markdown",
   "id": "6536f8e6",
   "metadata": {},
   "source": [
    "- A. Split Data Train & Test \n",
    "- B. Modeling (Algoritma yang diimplementasikan tidak terbatas yang diajarkan di kelas)\n",
    "- C. Model Evaluation: Pemilihan dan perhitungan metrics model\n",
    "- D. Model Evaluation: Apakah model sudah best-fit? Hindari Overfit/Underfit. Validasi \n",
    "dengan cross-validation\n",
    "- E. Hyperparameter Tuning"
   ]
  },
  {
   "cell_type": "code",
   "execution_count": 1,
   "id": "cabbbf38",
   "metadata": {},
   "outputs": [],
   "source": [
    "import warnings\n",
    "warnings.filterwarnings('ignore')"
   ]
  },
  {
   "cell_type": "code",
   "execution_count": 2,
   "id": "f5cf15ff",
   "metadata": {},
   "outputs": [],
   "source": [
    "import numpy as np\n",
    "import pandas as pd\n",
    "import matplotlib.pyplot as plt\n",
    "import seaborn as sns\n",
    "\n",
    "from scipy import stats\n",
    "from imblearn import under_sampling, over_sampling\n",
    "from sklearn.model_selection import train_test_split"
   ]
  },
  {
   "cell_type": "code",
   "execution_count": 3,
   "id": "777318b7",
   "metadata": {},
   "outputs": [
    {
     "name": "stdout",
     "output_type": "stream",
     "text": [
      "<class 'pandas.core.frame.DataFrame'>\n",
      "RangeIndex: 12205 entries, 0 to 12204\n",
      "Data columns (total 20 columns):\n",
      " #   Column                          Non-Null Count  Dtype  \n",
      "---  ------                          --------------  -----  \n",
      " 0   Month                           12205 non-null  int64  \n",
      " 1   OperatingSystems                12205 non-null  int64  \n",
      " 2   Browser                         12205 non-null  int64  \n",
      " 3   Region                          12205 non-null  int64  \n",
      " 4   TrafficType                     12205 non-null  int64  \n",
      " 5   VisitorType                     12205 non-null  object \n",
      " 6   Weekend                         12205 non-null  int64  \n",
      " 7   Revenue                         12205 non-null  bool   \n",
      " 8   yj_Administrative               12205 non-null  float64\n",
      " 9   yj_Administrative_Duration      12205 non-null  float64\n",
      " 10  yj_Informational                12205 non-null  float64\n",
      " 11  yj_Informational_Duration       12205 non-null  float64\n",
      " 12  yj_ProductRelated               12205 non-null  float64\n",
      " 13  yj_ProductRelated_Duration      12205 non-null  float64\n",
      " 14  yj_BounceRates                  12205 non-null  float64\n",
      " 15  yj_ExitRates                    12205 non-null  float64\n",
      " 16  yj_PageValues                   12205 non-null  float64\n",
      " 17  yj_SpecialDay                   12205 non-null  float64\n",
      " 18  visitor_type_Other              12205 non-null  int64  \n",
      " 19  visitor_type_Returning_Visitor  12205 non-null  int64  \n",
      "dtypes: bool(1), float64(10), int64(8), object(1)\n",
      "memory usage: 1.8+ MB\n"
     ]
    }
   ],
   "source": [
    "#Data test\n",
    "df = pd.read_csv('Data/data_pre.csv')\n",
    "df.info()"
   ]
  },
  {
   "cell_type": "markdown",
   "id": "a2e3a07a",
   "metadata": {},
   "source": [
    "## A. Split Data Train & Test "
   ]
  },
  {
   "cell_type": "code",
   "execution_count": 4,
   "id": "dd4709f8",
   "metadata": {},
   "outputs": [],
   "source": [
    "X = df[[col for col in df.columns if col not in ['VisitorType','Revenue','yj_ExitRates']]]\n",
    "y = df['Revenue']"
   ]
  },
  {
   "cell_type": "code",
   "execution_count": 5,
   "id": "47e1e97e",
   "metadata": {},
   "outputs": [],
   "source": [
    "X_train, X_test, y_train, y_test = train_test_split(X, y, test_size=0.2, random_state=123)"
   ]
  },
  {
   "cell_type": "markdown",
   "id": "e934c9e5",
   "metadata": {},
   "source": [
    "##### Over Sampling"
   ]
  },
  {
   "cell_type": "code",
   "execution_count": 6,
   "id": "0438326e",
   "metadata": {},
   "outputs": [],
   "source": [
    "X_train_over_SMOTE, y_train_over_SMOTE = over_sampling.SMOTE(0.6,random_state=123).fit_resample(X_train, y_train)"
   ]
  },
  {
   "cell_type": "code",
   "execution_count": 7,
   "id": "95cb8633",
   "metadata": {},
   "outputs": [
    {
     "name": "stdout",
     "output_type": "stream",
     "text": [
      "Nilai unik target sebelum oversampling:\n",
      " False    10297\n",
      "True      1908\n",
      "Name: Revenue, dtype: int64\n",
      "Nilai unik target sesudah oversampling:\n",
      " False    8268\n",
      "True     4960\n",
      "Name: Revenue, dtype: int64\n"
     ]
    }
   ],
   "source": [
    "print('Nilai unik target sebelum oversampling:\\n', pd.Series(y).value_counts())\n",
    "print('Nilai unik target sesudah oversampling:\\n', pd.Series(y_train_over_SMOTE).value_counts())"
   ]
  },
  {
   "cell_type": "code",
   "execution_count": 8,
   "id": "8e165a9d",
   "metadata": {},
   "outputs": [],
   "source": [
    "from sklearn.metrics import accuracy_score, precision_score, recall_score, f1_score, roc_auc_score\n",
    "from sklearn.model_selection import cross_validate\n",
    "\n",
    "def eval_classification(model):\n",
    "    y_pred = model.predict(X_test)\n",
    "    y_pred_train = model.predict(X_train)\n",
    "    y_pred_proba = model.predict_proba(X_test)\n",
    "    y_pred_proba_train = model.predict_proba(X_train)\n",
    "    \n",
    "    print(\"Accuracy (Test Set): %.2f\" % accuracy_score(y_test, y_pred))\n",
    "    print(\"Precision (Test Set): %.2f\" % precision_score(y_test, y_pred))\n",
    "    print(\"Recall (Test Set): %.2f\" % recall_score(y_test, y_pred))\n",
    "    print(\"F1-Score (Test Set): %.2f\" % f1_score(y_test, y_pred))\n",
    "    \n",
    "    print(\"roc_auc (test-proba): %.2f\" % roc_auc_score(y_test, y_pred_proba[:, 1]))\n",
    "    print(\"roc_auc (train-proba): %.2f\" % roc_auc_score(y_train, y_pred_proba_train[:, 1]))\n",
    "\n",
    "    score = cross_validate(model, X, y, cv=5, scoring='roc_auc', return_train_score=True)\n",
    "    print('roc_auc (crossval train): '+ str(score['train_score'].mean()))\n",
    "    print('roc_auc (crossval test): '+ str(score['test_score'].mean()))\n",
    "    \n",
    "\n",
    "def show_feature_importance(model):\n",
    "    feat_importances = pd.Series(model.feature_importances_, index=X.columns)\n",
    "    ax = feat_importances.nlargest(25).plot(kind='barh', figsize=(10, 8))\n",
    "    ax.invert_yaxis()\n",
    "\n",
    "    plt.xlabel('score')\n",
    "    plt.ylabel('feature')\n",
    "    plt.title('feature importance score')\n",
    "\n",
    "def show_best_hyperparameter(model):\n",
    "    print(model.best_estimator_.get_params())"
   ]
  },
  {
   "cell_type": "code",
   "execution_count": 9,
   "id": "8a607951",
   "metadata": {},
   "outputs": [],
   "source": [
    "import numpy as np\n",
    "from matplotlib import pyplot as plt\n",
    "from sklearn.linear_model import LogisticRegression\n",
    "from sklearn.neighbors import KNeighborsClassifier\n",
    "from sklearn.tree import DecisionTreeClassifier\n",
    "\n",
    "def draw_learning_curve(param_values):\n",
    "    train_scores = []\n",
    "    test_scores = []\n",
    "\n",
    "    for c in param_values:\n",
    "        model = LogisticRegression(penalty='l2', C=c)\n",
    "        model.fit(X_train, y_train)\n",
    "\n",
    "        # eval on train\n",
    "        y_pred_train_proba = model.predict_proba(X_train)\n",
    "        train_auc = roc_auc_score(y_train, y_pred_train_proba[:,1])\n",
    "        train_scores.append(train_auc)\n",
    "\n",
    "        # eval on test\n",
    "        y_pred_proba = model.predict_proba(X_test)\n",
    "        test_auc = roc_auc_score(y_test, y_pred_proba[:,1])\n",
    "        test_scores.append(test_auc)\n",
    "\n",
    "        print('param value: ' + str(c) + '; train: ' + str(train_auc) + '; test: '+ str(test_auc))\n",
    "\n",
    "    plt.plot(param_values, train_scores, label='Train')\n",
    "    plt.plot(param_values, test_scores, label='Test')\n",
    "    plt.xlabel('C')\n",
    "    plt.ylabel('AUC')\n",
    "    plt.title('Learning Curve - Hyperparameter C - Logistic Regression')\n",
    "    plt.legend()\n",
    "    plt.show()"
   ]
  },
  {
   "cell_type": "markdown",
   "id": "dfde9d68",
   "metadata": {},
   "source": [
    "## B. Modeling (Algoritma yang diimplementasikan tidak terbatas yang diajarkan di kelas)"
   ]
  },
  {
   "cell_type": "markdown",
   "id": "44ef02bd",
   "metadata": {},
   "source": [
    "## C. Model Evaluation: Pemilihan dan perhitungan metrics model"
   ]
  },
  {
   "cell_type": "markdown",
   "id": "b0ea4b0a",
   "metadata": {},
   "source": [
    "## D. Model Evaluation: Apakah model sudah best-fit? Hindari Overfit/Underfit. Validasi dengan cross-validation"
   ]
  },
  {
   "cell_type": "code",
   "execution_count": 10,
   "id": "e0ee82fa",
   "metadata": {},
   "outputs": [
    {
     "name": "stdout",
     "output_type": "stream",
     "text": [
      "Accuracy (Test Set): 0.88\n",
      "Precision (Test Set): 0.66\n",
      "Recall (Test Set): 0.59\n",
      "F1-Score (Test Set): 0.62\n",
      "roc_auc (test-proba): 0.91\n",
      "roc_auc (train-proba): 0.90\n",
      "roc_auc (crossval train): 0.9028102780148334\n",
      "roc_auc (crossval test): 0.881729462893464\n"
     ]
    }
   ],
   "source": [
    "from sklearn.linear_model import LogisticRegression # import logistic regression dari sklearn\n",
    "logreg = LogisticRegression() # inisiasi object dengan nama logreg\n",
    "logreg.fit(X_train, y_train) # fit model regression dari data train\n",
    "eval_classification(logreg)"
   ]
  },
  {
   "cell_type": "markdown",
   "id": "f7d95d7c",
   "metadata": {},
   "source": [
    "## Oversampling"
   ]
  },
  {
   "cell_type": "code",
   "execution_count": 11,
   "id": "451e34d3",
   "metadata": {},
   "outputs": [],
   "source": [
    "from sklearn.metrics import accuracy_score, precision_score, recall_score, f1_score, roc_auc_score\n",
    "from sklearn.model_selection import cross_validate\n",
    "\n",
    "def eval_classification1(model):\n",
    "    y_pred = model.predict(X_test)\n",
    "    y_pred_train = model.predict(X_train_over_SMOTE)\n",
    "    y_pred_proba = model.predict_proba(X_test)\n",
    "    y_pred_proba_train = model.predict_proba(X_train_over_SMOTE)\n",
    "    \n",
    "    print(\"Accuracy (Test Set): %.2f\" % accuracy_score(y_test, y_pred))\n",
    "    print(\"Precision (Test Set): %.2f\" % precision_score(y_test, y_pred))\n",
    "    print(\"Recall (Test Set): %.2f\" % recall_score(y_test, y_pred))\n",
    "    print(\"F1-Score (Test Set): %.2f\" % f1_score(y_test, y_pred))\n",
    "    \n",
    "    print(\"roc_auc (test-proba): %.2f\" % roc_auc_score(y_test, y_pred_proba[:, 1]))\n",
    "    print(\"roc_auc (train-proba): %.2f\" % roc_auc_score(y_train_over_SMOTE, y_pred_proba_train[:, 1]))\n",
    "\n",
    "    score = cross_validate(model, X, y, cv=5, scoring='roc_auc', return_train_score=True)\n",
    "    print('roc_auc (crossval train): '+ str(score['train_score'].mean()))\n",
    "    print('roc_auc (crossval test): '+ str(score['test_score'].mean()))"
   ]
  },
  {
   "cell_type": "code",
   "execution_count": 12,
   "id": "10e3a3cc",
   "metadata": {},
   "outputs": [
    {
     "name": "stdout",
     "output_type": "stream",
     "text": [
      "Accuracy (Test Set): 0.87\n",
      "Precision (Test Set): 0.58\n",
      "Recall (Test Set): 0.78\n",
      "F1-Score (Test Set): 0.67\n",
      "roc_auc (test-proba): 0.90\n",
      "roc_auc (train-proba): 0.92\n",
      "roc_auc (crossval train): 0.9028102780148334\n",
      "roc_auc (crossval test): 0.881729462893464\n"
     ]
    }
   ],
   "source": [
    "from sklearn.linear_model import LogisticRegression # import logistic regression dari sklearn\n",
    "logreg = LogisticRegression() # inisiasi object dengan nama logreg\n",
    "logreg.fit(X_train_over_SMOTE, y_train_over_SMOTE) # fit model regression dari data train\n",
    "eval_classification1(logreg)"
   ]
  },
  {
   "cell_type": "markdown",
   "id": "63838eb6",
   "metadata": {},
   "source": [
    "## Feature Importance"
   ]
  },
  {
   "cell_type": "markdown",
   "id": "fa2c4320",
   "metadata": {},
   "source": [
    "## E. Hyperparameter Tuning"
   ]
  },
  {
   "cell_type": "code",
   "execution_count": 13,
   "id": "0a804379",
   "metadata": {},
   "outputs": [
    {
     "name": "stdout",
     "output_type": "stream",
     "text": [
      "Accuracy (Test Set): 0.87\n",
      "Precision (Test Set): 0.66\n",
      "Recall (Test Set): 0.44\n",
      "F1-Score (Test Set): 0.53\n",
      "roc_auc (test-proba): 0.91\n",
      "roc_auc (train-proba): 0.90\n",
      "roc_auc (crossval train): 0.9045064279023874\n",
      "roc_auc (crossval test): 0.8874684222974057\n"
     ]
    }
   ],
   "source": [
    "from sklearn.model_selection import RandomizedSearchCV\n",
    "\n",
    "penalty = ['l1', 'l2']\n",
    "C = [float(x) for x in np.linspace(0.0001, 0.05, 100)]\n",
    "hyperparameters = dict(penalty=penalty, C=C)\n",
    "\n",
    "logreg = LogisticRegression()\n",
    "rs = RandomizedSearchCV(logreg, hyperparameters, scoring='roc_auc', random_state=1, cv=5, n_iter=50)\n",
    "rs.fit(X_train, y_train)\n",
    "eval_classification(rs)"
   ]
  },
  {
   "cell_type": "code",
   "execution_count": 14,
   "id": "51e8de3b",
   "metadata": {},
   "outputs": [
    {
     "name": "stdout",
     "output_type": "stream",
     "text": [
      "{'C': 0.0026202020202020205, 'class_weight': None, 'dual': False, 'fit_intercept': True, 'intercept_scaling': 1, 'l1_ratio': None, 'max_iter': 100, 'multi_class': 'auto', 'n_jobs': None, 'penalty': 'l2', 'random_state': None, 'solver': 'lbfgs', 'tol': 0.0001, 'verbose': 0, 'warm_start': False}\n"
     ]
    }
   ],
   "source": [
    "show_best_hyperparameter(rs)"
   ]
  },
  {
   "cell_type": "code",
   "execution_count": 15,
   "id": "7da2a944",
   "metadata": {},
   "outputs": [
    {
     "data": {
      "text/plain": [
       "Index(['Month', 'OperatingSystems', 'Browser', 'Region', 'TrafficType',\n",
       "       'Weekend', 'yj_Administrative', 'yj_Administrative_Duration',\n",
       "       'yj_Informational', 'yj_Informational_Duration', 'yj_ProductRelated',\n",
       "       'yj_ProductRelated_Duration', 'yj_BounceRates', 'yj_PageValues',\n",
       "       'yj_SpecialDay', 'visitor_type_Other',\n",
       "       'visitor_type_Returning_Visitor'],\n",
       "      dtype='object')"
      ]
     },
     "execution_count": 15,
     "metadata": {},
     "output_type": "execute_result"
    }
   ],
   "source": [
    "X.columns"
   ]
  },
  {
   "cell_type": "code",
   "execution_count": 16,
   "id": "0534fc52",
   "metadata": {},
   "outputs": [
    {
     "data": {
      "text/plain": [
       "array([[ 9.14938302e-02, -4.42865338e-02,  8.92376383e-03,\n",
       "        -1.52239239e-02, -3.54101567e-02,  3.09788260e-02,\n",
       "        -2.69283221e-02, -3.77934925e-04,  1.71488642e-02,\n",
       "        -2.57609318e-02,  4.22689882e-02,  8.36861268e-02,\n",
       "        -2.81915392e-01,  1.06036836e+00, -8.41707808e-02,\n",
       "        -3.81337782e-03, -1.84820496e-01]])"
      ]
     },
     "execution_count": 16,
     "metadata": {},
     "output_type": "execute_result"
    }
   ],
   "source": [
    "rs.best_estimator_.coef_"
   ]
  },
  {
   "cell_type": "code",
   "execution_count": 17,
   "id": "695679a7",
   "metadata": {},
   "outputs": [
    {
     "name": "stdout",
     "output_type": "stream",
     "text": [
      "param value: 0.0001; train: 0.867163912668907; test: 0.8650035648150363\n",
      "param value: 0.0006040404040404041; train: 0.8978041589376218; test: 0.9003323173211729\n",
      "param value: 0.0011080808080808082; train: 0.9009108954308732; test: 0.9044509945594701\n",
      "param value: 0.0016121212121212123; train: 0.9021606399519829; test: 0.9062286170910151\n",
      "param value: 0.002116161616161616; train: 0.9025996432350483; test: 0.9072167168292765\n",
      "param value: 0.0026202020202020205; train: 0.902743875621234; test: 0.9078925961901937\n",
      "param value: 0.0031242424242424243; train: 0.9027681299462653; test: 0.9082550589271103\n",
      "param value: 0.003628282828282828; train: 0.9027437139257339; test: 0.9084440658988359\n",
      "param value: 0.004132323232323233; train: 0.9026749124903954; test: 0.908539765631355\n",
      "param value: 0.004636363636363637; train: 0.9026331950513415; test: 0.9087215951231417\n",
      "param value: 0.0051404040404040416; train: 0.9025792696020222; test: 0.9088017436491266\n",
      "param value: 0.005644444444444445; train: 0.9025236463499505; test: 0.9087933699225311\n",
      "param value: 0.006148484848484849; train: 0.902482090606397; test: 0.9087718374827142\n",
      "param value: 0.006652525252525254; train: 0.9024256588768242; test: 0.9087742299760272\n",
      "param value: 0.007156565656565657; train: 0.9023981706417888; test: 0.9087814074559661\n",
      "param value: 0.007660606060606061; train: 0.9023631635659936; test: 0.9087814074559661\n",
      "param value: 0.008164646464646465; train: 0.9023263778396964; test: 0.908798154909157\n",
      "param value: 0.008668686868686869; train: 0.9022800520788867; test: 0.9087622675094624\n",
      "param value: 0.009172727272727273; train: 0.902242942961589; test: 0.9086904927100729\n",
      "param value: 0.009676767676767678; train: 0.9022015489135355; test: 0.9086881002167598\n",
      "param value: 0.010180808080808082; train: 0.9021776179795047; test: 0.9086665677769431\n",
      "param value: 0.010684848484848485; train: 0.9021387302117049; test: 0.9086438390904698\n",
      "param value: 0.011188888888888889; train: 0.9021045316134106; test: 0.9085720642910803\n",
      "param value: 0.011692929292929293; train: 0.9020701713196164; test: 0.908534980644729\n",
      "param value: 0.012196969696969697; train: 0.9020384790015756; test: 0.908493112011752\n",
      "param value: 0.012701010101010102; train: 0.9019990252995247; test: 0.9084620095986832\n",
      "param value: 0.013205050505050506; train: 0.901973719953742; test: 0.9084691870786221\n",
      "param value: 0.01370909090909091; train: 0.9019536697117163; test: 0.9084416734055228\n",
      "param value: 0.014213131313131313; train: 0.901926181476681; test: 0.9084237297056754\n",
      "param value: 0.014717171717171717; train: 0.9019024930859004; test: 0.9084213372123624\n",
      "param value: 0.015221212121212122; train: 0.9018906893143852; test: 0.9083986085258892\n",
      "param value: 0.015725252525252528; train: 0.9018692646606075; test: 0.9083675061128205\n",
      "param value: 0.01622929292929293; train: 0.9018438784670749; test: 0.908359132386225\n",
      "param value: 0.016733333333333333; train: 0.9018191390555431; test: 0.9083375999464082\n",
      "param value: 0.01723737373737374; train: 0.9017924592980088; test: 0.9083172637532477\n",
      "param value: 0.01774141414141414; train: 0.9017690942982286; test: 0.908286161340179\n",
      "param value: 0.018245454545454547; train: 0.901753005595958; test: 0.9082753951202707\n",
      "param value: 0.01874949494949495; train: 0.9017291555096771; test: 0.908241900213889\n",
      "param value: 0.019253535353535356; train: 0.90171573478316; test: 0.9082107978008201\n",
      "param value: 0.01975757575757576; train: 0.9016990801466385; test: 0.9081868728676903\n",
      "param value: 0.020261616161616165; train: 0.9016890550256256; test: 0.9081737141544689\n",
      "param value: 0.020765656565656567; train: 0.9016709451296021; test: 0.9081438079880566\n",
      "param value: 0.02126969696969697; train: 0.9016550181228318; test: 0.9081246680415529\n",
      "param value: 0.021773737373737376; train: 0.9016403038323128; test: 0.9081150980683009\n",
      "param value: 0.02227777777777778; train: 0.9016339977078045; test: 0.9080839956552322\n",
      "param value: 0.022781818181818184; train: 0.9016213854587884; test: 0.9080744256819802\n",
      "param value: 0.023285858585858587; train: 0.9016069137115197; test: 0.9080564819821328\n",
      "param value: 0.023789898989898993; train: 0.9015902590749983; test: 0.9080337532956595\n",
      "param value: 0.024293939393939395; train: 0.9015770808917313; test: 0.9080313608023467\n",
      "param value: 0.024797979797979798; train: 0.9015674600094687; test: 0.9080086321158733\n",
      "param value: 0.025302020202020204; train: 0.901555898781204; test: 0.9079954734026517\n",
      "param value: 0.025806060606060607; train: 0.9015366570166792; test: 0.9079823146894305\n",
      "param value: 0.026310101010101013; train: 0.9015313210651723; test: 0.9079476235363922\n",
      "param value: 0.026814141414141415; train: 0.9015177386431549; test: 0.9079225023566059\n",
      "param value: 0.02731818181818182; train: 0.9015019733318845; test: 0.9079057549034151\n",
      "param value: 0.027822222222222224; train: 0.9014853186953631; test: 0.9078674750104074\n",
      "param value: 0.028326262626262626; train: 0.9014739191625986; test: 0.90784953131056\n",
      "param value: 0.028830303030303032; train: 0.9014640557370857; test: 0.9078160364041783\n",
      "param value: 0.029334343434343435; train: 0.9014545157025734; test: 0.9078244101307736\n",
      "param value: 0.02983838383838384; train: 0.9014441671905601; test: 0.9078268026240868\n",
      "param value: 0.030342424242424244; train: 0.9014314740937939; test: 0.9078244101307738\n",
      "param value: 0.03084646464646465; train: 0.9014284018792897; test: 0.9078100551708957\n",
      "param value: 0.03135050505050506; train: 0.9014140109797711; test: 0.9078124476642088\n",
      "param value: 0.03185454545454546; train: 0.9014089175715145; test: 0.9078076626775827\n",
      "param value: 0.032358585858585864; train: 0.9014019646650056; test: 0.9077957002110179\n",
      "param value: 0.03286262626262627; train: 0.9013953351494972; test: 0.9077813452511401\n",
      "param value: 0.03336666666666667; train: 0.9013785188174755; test: 0.907774167771201\n",
      "param value: 0.03387070707070708; train: 0.9013773061012239; test: 0.9077574203180102\n",
      "param value: 0.03437474747474748; train: 0.901364208765707; test: 0.9077454578514453\n",
      "param value: 0.034878787878787884; train: 0.9013580643366991; test: 0.9077346916315369\n",
      "param value: 0.03538282828282829; train: 0.9013516773644409; test: 0.9077239254116285\n",
      "param value: 0.035886868686868696; train: 0.9013419756344285; test: 0.9076976079851858\n",
      "param value: 0.0363909090909091; train: 0.9013380140946733; test: 0.9076904305052469\n",
      "param value: 0.0368949494949495; train: 0.9013264528664084; test: 0.9076581318455215\n",
      "param value: 0.037398989898989904; train: 0.9013236231951549; test: 0.9076497581189261\n",
      "param value: 0.037903030303030306; train: 0.9013160235066451; test: 0.907622244445827\n",
      "param value: 0.038407070707070716; train: 0.9013035729531289; test: 0.9076318144190788\n",
      "param value: 0.03891111111111112; train: 0.901297428524121; test: 0.9076234406924834\n",
      "param value: 0.03941515151515152; train: 0.9012966200466199; test: 0.9076365994057047\n",
      "param value: 0.039919191919191924; train: 0.9012929010501153; test: 0.9076258331857963\n",
      "param value: 0.04042323232323233; train: 0.9012881310328591; test: 0.9076270294324529\n",
      "param value: 0.040927272727272736; train: 0.901285624752606; test: 0.9076246369391399\n",
      "param value: 0.04143131313131314; train: 0.9012739018288408; test: 0.9076234406924832\n",
      "param value: 0.04193535353535354; train: 0.9012772165865951; test: 0.9076090857326053\n",
      "param value: 0.04243939393939394; train: 0.9012672723133323; test: 0.9075899457861015\n",
      "param value: 0.04294343434343435; train: 0.9012628256870765; test: 0.907591142032758\n",
      "param value: 0.043447474747474756; train: 0.9012564387148183; test: 0.907588749539445\n",
      "param value: 0.04395151515151516; train: 0.9012491624173089; test: 0.9075911420327579\n",
      "param value: 0.04445555555555556; train: 0.901245362573054; test: 0.9075851607994756\n",
      "param value: 0.04495959595959596; train: 0.9012452008775538; test: 0.9075911420327581\n",
      "param value: 0.04546363636363637; train: 0.9012358225385416; test: 0.9075624321130022\n",
      "param value: 0.045967676767676775; train: 0.9012400266215472; test: 0.9075636283596586\n",
      "param value: 0.04647171717171718; train: 0.9012322652375372; test: 0.9075552546330634\n",
      "param value: 0.04697575757575758; train: 0.9012295972617839; test: 0.9075468809064677\n",
      "param value: 0.04747979797979799; train: 0.9012219975732739; test: 0.9075564508797196\n",
      "param value: 0.04798383838383839; train: 0.901217470099268; test: 0.907546880906468\n",
      "param value: 0.048487878787878795; train: 0.9012128617775121; test: 0.9075444884131548\n"
     ]
    },
    {
     "name": "stdout",
     "output_type": "stream",
     "text": [
      "param value: 0.0489919191919192; train: 0.9012100321062585; test: 0.9075313296999334\n",
      "param value: 0.0494959595959596; train: 0.901207364130505; test: 0.9075265447133074\n",
      "param value: 0.05; train: 0.9012034834385; test: 0.9075169747400555\n"
     ]
    },
    {
     "data": {
      "image/png": "[encoded data removed]",
      "text/plain": [
       "<Figure size 432x288 with 1 Axes>"
      ]
     },
     "metadata": {
      "needs_background": "light"
     },
     "output_type": "display_data"
    }
   ],
   "source": [
    "# learning curve\n",
    "import numpy as np\n",
    "param_values = [float(x) for x in np.linspace(0.0001, 0.05, 100)]\n",
    "draw_learning_curve(param_values)"
   ]
  },
  {
   "cell_type": "markdown",
   "id": "e73b2c75",
   "metadata": {},
   "source": [
    "#### huhu modelnya underfitting"
   ]
  },
  {
   "cell_type": "code",
   "execution_count": null,
   "id": "34e72bfe",
   "metadata": {},
   "outputs": [],
   "source": []
  }
 ],
 "metadata": {
  "kernelspec": {
   "display_name": "Python 3 (ipykernel)",
   "language": "python",
   "name": "python3"
  },
  "language_info": {
   "codemirror_mode": {
    "name": "ipython",
    "version": 3
   },
   "file_extension": ".py",
   "mimetype": "text/x-python",
   "name": "python",
   "nbconvert_exporter": "python",
   "pygments_lexer": "ipython3",
   "version": "3.10.6"
  }
 },
 "nbformat": 4,
 "nbformat_minor": 5
}
