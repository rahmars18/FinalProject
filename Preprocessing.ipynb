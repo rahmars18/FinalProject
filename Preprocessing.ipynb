{
 "cells": [
  {
   "cell_type": "markdown",
   "id": "705ae8d8-1ace-4788-a243-b1de29675240",
   "metadata": {
    "tags": []
   },
   "source": [
    "# <center>**Online Shoppers Purchasing Intention**</center>\n",
    "***"
   ]
  },
  {
   "cell_type": "markdown",
   "id": "c76a8d68-c199-4704-bf35-e5cebedc3468",
   "metadata": {},
   "source": [
    "### Kelompok LAMBA :\n",
    "Abdul Ghofur <br>\n",
    "Angeline Shirley<br>\n",
    "Dzaky Fachrezi<br>\n",
    "Iqbal Octoryaz<br>\n",
    "M. Tohar Sagara<br>\n",
    "Rahma Yanti<br>\n",
    "Syofwan Aldia<br>\n",
    "Widi Bagaskara"
   ]
  },
  {
   "cell_type": "markdown",
   "id": "0836450d-dc35-4ef7-af6a-bc480786f71a",
   "metadata": {
    "tags": []
   },
   "source": [
    "## **About Dataset**\n",
    "***\n",
    "\n",
    "Dataset Online Shoppers Purchasing Intention terdiri dari 18 features yang dikelompokan berdasarkan tipe data nya : <br>\n",
    "\n",
    "| **Numerical data**     | **Categorical data**|\n",
    "|----------------------- |------------- |\n",
    "|Administrative | OperatingSystems|\n",
    "|Administrative_Duration | Browser|\n",
    "|Informational | Region|\n",
    "|Informational_Duration | TrafficType|\n",
    "|ProductRelated | Month|\n",
    "|ProductRelated_Duration | VisitorType|\n",
    "|BounceRates | Weekend |\n",
    "|ExitRates | Revenue|\n",
    "|PageValues |\n",
    "|SpecialDay |"
   ]
  },
  {
   "cell_type": "markdown",
   "id": "3f2a8cae-1538-4d21-81cd-c1c88774078f",
   "metadata": {
    "tags": []
   },
   "source": [
    "## **Import Libraries**\n",
    "***"
   ]
  },
  {
   "cell_type": "code",
   "execution_count": 4,
   "id": "3a041bc9-d505-471c-b2e4-f3ef93f77957",
   "metadata": {},
   "outputs": [],
   "source": [
    "import numpy as np\n",
    "import pandas as pd\n",
    "import matplotlib.pyplot as plt\n",
    "import seaborn as sns"
   ]
  },
  {
   "cell_type": "code",
   "execution_count": 5,
   "id": "2c347872-be90-4125-93ed-f066dfb1eda6",
   "metadata": {},
   "outputs": [],
   "source": [
    "from matplotlib import rcParams\n",
    "\n",
    "rcParams['figure.figsize'] = 12, 4\n",
    "rcParams['lines.linewidth'] = 3\n",
    "rcParams['xtick.labelsize'] = 'x-large'\n",
    "rcParams['ytick.labelsize'] = 'x-large'"
   ]
  },
  {
   "cell_type": "markdown",
   "id": "a40d7080-6e2a-49f7-a3b6-3cbd4c4fcf29",
   "metadata": {
    "tags": []
   },
   "source": [
    "## **Read Dataset**\n",
    "***"
   ]
  },
  {
   "cell_type": "code",
   "execution_count": 6,
   "id": "16302546-9164-478d-a3e3-3c6f6dca09f7",
   "metadata": {},
   "outputs": [],
   "source": [
    "df = pd.read_csv('Data/online_shoppers_intention.csv')"
   ]
  },
  {
   "cell_type": "markdown",
   "id": "170fc151-d6ab-44e5-b6b5-bb3846a64a36",
   "metadata": {
    "id": "tYvXNNO4uei2"
   },
   "source": [
    "Univariate Analysis dilakukan untuk menganalisa setiap kolom secara terpisah, melihat distribusi nilainya secara detail."
   ]
  },
  {
   "cell_type": "markdown",
   "id": "1158ae17-901e-4377-9633-3249340c5424",
   "metadata": {
    "tags": []
   },
   "source": [
    "***\n",
    "## **Data Pre-Processing**\n",
    "***"
   ]
  },
  {
   "cell_type": "markdown",
   "id": "52cb09cb-8960-437e-9596-039bf96991f0",
   "metadata": {},
   "source": [
    "**Separate Features base on type**"
   ]
  },
  {
   "cell_type": "code",
   "execution_count": 7,
   "id": "98ed5e1e-e1d5-45f3-b07d-dcd0d15e74f3",
   "metadata": {},
   "outputs": [],
   "source": [
    "# pengelompokan kolom berdasarkan jenisnya\n",
    "\n",
    "nums = ['Administrative', 'Administrative_Duration', 'Informational',\n",
    "       'Informational_Duration', 'ProductRelated', 'ProductRelated_Duration',\n",
    "       'BounceRates', 'ExitRates', 'PageValues', 'SpecialDay']\n",
    "\n",
    "cats = ['OperatingSystems', 'Browser', 'Region', 'TrafficType', 'Month', \n",
    "        'VisitorType', 'Weekend']"
   ]
  },
  {
   "cell_type": "markdown",
   "id": "f74be4b0-5e27-46c8-97c1-2ab970d3839f",
   "metadata": {
    "tags": []
   },
   "source": [
    "## **1. Data Cleansing**\n",
    "***"
   ]
  },
  {
   "cell_type": "markdown",
   "id": "32ca66ae-4648-4abb-a092-848b98b9af64",
   "metadata": {},
   "source": [
    "**features encoding**"
   ]
  },
  {
   "cell_type": "code",
   "execution_count": 8,
   "id": "2972ebf6-bd35-4cab-9898-660cab09ff37",
   "metadata": {},
   "outputs": [],
   "source": [
    "def ordinal_encode(data, column, order):\n",
    "    data = data.copy()\n",
    "    data[column] = data[column].apply(lambda x: order.index(x))\n",
    "    return data\n",
    "\n",
    "def onehot_encode(data, column, prefix):\n",
    "    data = data.copy()\n",
    "    dummies = pd.get_dummies(data[column], prefix=prefix)\n",
    "    data = pd.concat([data, dummies], axis=1)\n",
    "    data = data.drop(column, axis=1)\n",
    "    return data"
   ]
  },
  {
   "cell_type": "code",
   "execution_count": 9,
   "id": "c01c48f7-7b11-481d-bfec-0370d701b1e2",
   "metadata": {},
   "outputs": [],
   "source": [
    "# create a copy of original df\n",
    "df_encode = df.copy()\n",
    "\n",
    "#ordering the month\n",
    "month_order = [\"Jan\",\"Feb\", \"Mar\", \"Apr\", \"May\", \"June\", \"Jul\", \"Aug\", \"Sep\", \"Oct\", \"Nov\", \"Dec\"]\n",
    "\n",
    "# label encoding the month\n",
    "df_encode = ordinal_encode(df_encode, 'Month', month_order)\n",
    "\n",
    "# one-hot encoding the VisitorType\n",
    "df_encode = onehot_encode(df_encode, 'VisitorType', 'visitor')"
   ]
  },
  {
   "cell_type": "code",
   "execution_count": 10,
   "id": "9162023c-c5af-4ef5-8f95-e222888f0b44",
   "metadata": {},
   "outputs": [
    {
     "data": {
      "text/html": [
       "<div>\n",
       "<style scoped>\n",
       "    .dataframe tbody tr th:only-of-type {\n",
       "        vertical-align: middle;\n",
       "    }\n",
       "\n",
       "    .dataframe tbody tr th {\n",
       "        vertical-align: top;\n",
       "    }\n",
       "\n",
       "    .dataframe thead th {\n",
       "        text-align: right;\n",
       "    }\n",
       "</style>\n",
       "<table border=\"1\" class=\"dataframe\">\n",
       "  <thead>\n",
       "    <tr style=\"text-align: right;\">\n",
       "      <th></th>\n",
       "      <th>Administrative</th>\n",
       "      <th>Administrative_Duration</th>\n",
       "      <th>Informational</th>\n",
       "      <th>Informational_Duration</th>\n",
       "      <th>ProductRelated</th>\n",
       "      <th>ProductRelated_Duration</th>\n",
       "      <th>BounceRates</th>\n",
       "      <th>ExitRates</th>\n",
       "      <th>PageValues</th>\n",
       "      <th>SpecialDay</th>\n",
       "      <th>Month</th>\n",
       "      <th>OperatingSystems</th>\n",
       "      <th>Browser</th>\n",
       "      <th>Region</th>\n",
       "      <th>TrafficType</th>\n",
       "      <th>Weekend</th>\n",
       "      <th>Revenue</th>\n",
       "      <th>visitor_New_Visitor</th>\n",
       "      <th>visitor_Other</th>\n",
       "      <th>visitor_Returning_Visitor</th>\n",
       "    </tr>\n",
       "  </thead>\n",
       "  <tbody>\n",
       "    <tr>\n",
       "      <th>0</th>\n",
       "      <td>0</td>\n",
       "      <td>0.0</td>\n",
       "      <td>0</td>\n",
       "      <td>0.0</td>\n",
       "      <td>1</td>\n",
       "      <td>0.0</td>\n",
       "      <td>0.2</td>\n",
       "      <td>0.2</td>\n",
       "      <td>0.0</td>\n",
       "      <td>0.0</td>\n",
       "      <td>1</td>\n",
       "      <td>1</td>\n",
       "      <td>1</td>\n",
       "      <td>1</td>\n",
       "      <td>1</td>\n",
       "      <td>False</td>\n",
       "      <td>False</td>\n",
       "      <td>0</td>\n",
       "      <td>0</td>\n",
       "      <td>1</td>\n",
       "    </tr>\n",
       "    <tr>\n",
       "      <th>1</th>\n",
       "      <td>0</td>\n",
       "      <td>0.0</td>\n",
       "      <td>0</td>\n",
       "      <td>0.0</td>\n",
       "      <td>2</td>\n",
       "      <td>64.0</td>\n",
       "      <td>0.0</td>\n",
       "      <td>0.1</td>\n",
       "      <td>0.0</td>\n",
       "      <td>0.0</td>\n",
       "      <td>1</td>\n",
       "      <td>2</td>\n",
       "      <td>2</td>\n",
       "      <td>1</td>\n",
       "      <td>2</td>\n",
       "      <td>False</td>\n",
       "      <td>False</td>\n",
       "      <td>0</td>\n",
       "      <td>0</td>\n",
       "      <td>1</td>\n",
       "    </tr>\n",
       "  </tbody>\n",
       "</table>\n",
       "</div>"
      ],
      "text/plain": [
       "   Administrative  Administrative_Duration  Informational  \\\n",
       "0               0                      0.0              0   \n",
       "1               0                      0.0              0   \n",
       "\n",
       "   Informational_Duration  ProductRelated  ProductRelated_Duration  \\\n",
       "0                     0.0               1                      0.0   \n",
       "1                     0.0               2                     64.0   \n",
       "\n",
       "   BounceRates  ExitRates  PageValues  SpecialDay  Month  OperatingSystems  \\\n",
       "0          0.2        0.2         0.0         0.0      1                 1   \n",
       "1          0.0        0.1         0.0         0.0      1                 2   \n",
       "\n",
       "   Browser  Region  TrafficType  Weekend  Revenue  visitor_New_Visitor  \\\n",
       "0        1       1            1    False    False                    0   \n",
       "1        2       1            2    False    False                    0   \n",
       "\n",
       "   visitor_Other  visitor_Returning_Visitor  \n",
       "0              0                          1  \n",
       "1              0                          1  "
      ]
     },
     "execution_count": 10,
     "metadata": {},
     "output_type": "execute_result"
    }
   ],
   "source": [
    "df_encode.head(2)"
   ]
  },
  {
   "cell_type": "code",
   "execution_count": 11,
   "id": "e024795d-82d6-4939-a166-859220c6b92d",
   "metadata": {},
   "outputs": [
    {
     "data": {
      "text/html": [
       "<div>\n",
       "<style scoped>\n",
       "    .dataframe tbody tr th:only-of-type {\n",
       "        vertical-align: middle;\n",
       "    }\n",
       "\n",
       "    .dataframe tbody tr th {\n",
       "        vertical-align: top;\n",
       "    }\n",
       "\n",
       "    .dataframe thead th {\n",
       "        text-align: right;\n",
       "    }\n",
       "</style>\n",
       "<table border=\"1\" class=\"dataframe\">\n",
       "  <thead>\n",
       "    <tr style=\"text-align: right;\">\n",
       "      <th></th>\n",
       "      <th>Administrative</th>\n",
       "      <th>Administrative_Duration</th>\n",
       "      <th>Informational</th>\n",
       "      <th>Informational_Duration</th>\n",
       "      <th>ProductRelated</th>\n",
       "      <th>ProductRelated_Duration</th>\n",
       "      <th>BounceRates</th>\n",
       "      <th>ExitRates</th>\n",
       "      <th>PageValues</th>\n",
       "      <th>SpecialDay</th>\n",
       "      <th>Month</th>\n",
       "      <th>OperatingSystems</th>\n",
       "      <th>Browser</th>\n",
       "      <th>Region</th>\n",
       "      <th>TrafficType</th>\n",
       "      <th>Weekend</th>\n",
       "      <th>visitor_New_Visitor</th>\n",
       "      <th>visitor_Other</th>\n",
       "      <th>visitor_Returning_Visitor</th>\n",
       "      <th>Revenue</th>\n",
       "    </tr>\n",
       "  </thead>\n",
       "  <tbody>\n",
       "    <tr>\n",
       "      <th>0</th>\n",
       "      <td>0</td>\n",
       "      <td>0.0</td>\n",
       "      <td>0</td>\n",
       "      <td>0.0</td>\n",
       "      <td>1</td>\n",
       "      <td>0.0</td>\n",
       "      <td>0.2</td>\n",
       "      <td>0.2</td>\n",
       "      <td>0.0</td>\n",
       "      <td>0.0</td>\n",
       "      <td>1</td>\n",
       "      <td>1</td>\n",
       "      <td>1</td>\n",
       "      <td>1</td>\n",
       "      <td>1</td>\n",
       "      <td>False</td>\n",
       "      <td>0</td>\n",
       "      <td>0</td>\n",
       "      <td>1</td>\n",
       "      <td>False</td>\n",
       "    </tr>\n",
       "    <tr>\n",
       "      <th>1</th>\n",
       "      <td>0</td>\n",
       "      <td>0.0</td>\n",
       "      <td>0</td>\n",
       "      <td>0.0</td>\n",
       "      <td>2</td>\n",
       "      <td>64.0</td>\n",
       "      <td>0.0</td>\n",
       "      <td>0.1</td>\n",
       "      <td>0.0</td>\n",
       "      <td>0.0</td>\n",
       "      <td>1</td>\n",
       "      <td>2</td>\n",
       "      <td>2</td>\n",
       "      <td>1</td>\n",
       "      <td>2</td>\n",
       "      <td>False</td>\n",
       "      <td>0</td>\n",
       "      <td>0</td>\n",
       "      <td>1</td>\n",
       "      <td>False</td>\n",
       "    </tr>\n",
       "  </tbody>\n",
       "</table>\n",
       "</div>"
      ],
      "text/plain": [
       "   Administrative  Administrative_Duration  Informational  \\\n",
       "0               0                      0.0              0   \n",
       "1               0                      0.0              0   \n",
       "\n",
       "   Informational_Duration  ProductRelated  ProductRelated_Duration  \\\n",
       "0                     0.0               1                      0.0   \n",
       "1                     0.0               2                     64.0   \n",
       "\n",
       "   BounceRates  ExitRates  PageValues  SpecialDay  Month  OperatingSystems  \\\n",
       "0          0.2        0.2         0.0         0.0      1                 1   \n",
       "1          0.0        0.1         0.0         0.0      1                 2   \n",
       "\n",
       "   Browser  Region  TrafficType  Weekend  visitor_New_Visitor  visitor_Other  \\\n",
       "0        1       1            1    False                    0              0   \n",
       "1        2       1            2    False                    0              0   \n",
       "\n",
       "   visitor_Returning_Visitor  Revenue  \n",
       "0                          1    False  \n",
       "1                          1    False  "
      ]
     },
     "execution_count": 11,
     "metadata": {},
     "output_type": "execute_result"
    }
   ],
   "source": [
    "# shift column 'Revenur' to last position\n",
    "last_column = df_encode.pop('Revenue')\n",
    "  \n",
    "# insert column using insert(position,column_name,\n",
    "# first_column) function\n",
    "df_encode.insert(19, 'Revenue', last_column)\n",
    "\n",
    "df_encode.head(2)"
   ]
  },
  {
   "cell_type": "code",
   "execution_count": 33,
   "id": "d93da727-5982-4d15-b48e-dd69600844b3",
   "metadata": {},
   "outputs": [
    {
     "data": {
      "text/plain": [
       "<AxesSubplot:>"
      ]
     },
     "execution_count": 33,
     "metadata": {},
     "output_type": "execute_result"
    },
    {
     "data": {
      "image/png": "[encoded data removed]",
      "text/plain": [
       "<Figure size 1080x720 with 2 Axes>"
      ]
     },
     "metadata": {
      "needs_background": "light"
     },
     "output_type": "display_data"
    }
   ],
   "source": [
    "plt.figure(figsize=(15,10))\n",
    "sns.heatmap(df_encode[nums].corr(), cmap='coolwarm_r', annot=True, fmt='.2f',vmin=-1, vmax=1)"
   ]
  },
  {
   "cell_type": "markdown",
   "id": "857161cf-aa28-423f-b0dc-0b00e109eb3f",
   "metadata": {
    "tags": []
   },
   "source": [
    "***\n",
    "## **2. Feature Engineering**\n",
    "***"
   ]
  },
  {
   "cell_type": "markdown",
   "id": "de8cb5e1-67c9-4f2d-b762-27020a98b961",
   "metadata": {},
   "source": [
    "**Import library**"
   ]
  },
  {
   "cell_type": "code",
   "execution_count": 13,
   "id": "6c4c3a96-754d-42ff-8a40-260f15c20186",
   "metadata": {},
   "outputs": [],
   "source": [
    "# import library\n",
    "from sklearn import datasets\n",
    "from sklearn.feature_selection import chi2\n",
    "from sklearn.feature_selection import mutual_info_classif\n",
    "from sklearn import preprocessing"
   ]
  },
  {
   "cell_type": "markdown",
   "id": "dd71a8ed-366a-4189-8093-b3edbc6248bb",
   "metadata": {},
   "source": [
    "**Split Features and Target**"
   ]
  },
  {
   "cell_type": "code",
   "execution_count": 14,
   "id": "4829a53a-c916-4003-8578-8ff942e1226f",
   "metadata": {},
   "outputs": [],
   "source": [
    "# split feature and target\n",
    "\n",
    "# features\n",
    "X = df_encode.drop('Revenue', axis=1)\n",
    "# target\n",
    "y = df_encode['Revenue'].copy()"
   ]
  },
  {
   "cell_type": "markdown",
   "id": "48ae6b72-6daf-474b-800e-1e995502fac5",
   "metadata": {
    "tags": []
   },
   "source": [
    "***\n",
    "### **2.A Feature selection**\n",
    "\n",
    "Kategori features yang bisa di-drop dari hasil Univariate dan Multivariate analysis adalah sbb : <br>\n",
    "\n",
    "1. Feature kategorikal yg hanya punya 1 atau 2 data yg dominan  --> Browser dan Region <br>\n",
    "2. Feature kategorical dengan jumlah nilai unique nya banyak  --> TrafficType. Namun untuk type ini sudah dilakukan Thershold untuk mengurangi jumlah nunique- nya pada Data Cleansing<br>\n",
    "3. Salah satu dari 2 feature yang berkorelasi dengan nilai > 0.7 (redundant) --> ExitRate <br>\n",
    "\n",
    "Asumsi awal features yang berpeluang untuk di-drop adalah : **Browser, Region, ExitRate**\n",
    "\n",
    "**Asumsi** ini akan dicoba dilakukan **validasi** dengan **metode feature selection** dibawah."
   ]
  },
  {
   "cell_type": "markdown",
   "id": "399bf3c6-3f63-4bfb-a123-186747a80bf2",
   "metadata": {
    "tags": []
   },
   "source": [
    "#### **2.A.1 Feature selection for Numerical data**"
   ]
  },
  {
   "cell_type": "markdown",
   "id": "016e328e-e85b-49cc-b98e-c914c029e762",
   "metadata": {},
   "source": [
    "**REDUNDANT FEATURES**\n",
    "\n",
    "premis : jika 2 feature berkorelasi dengan nilai > 0.7 maka feature tersebut redundant dan bisa di-drop salah satunya"
   ]
  },
  {
   "cell_type": "code",
   "execution_count": 15,
   "id": "21f36d0a-940f-4e0f-b5de-3fd7f991411e",
   "metadata": {},
   "outputs": [
    {
     "data": {
      "text/plain": [
       "['ProductRelated_Duration', 'ExitRates']"
      ]
     },
     "execution_count": 15,
     "metadata": {},
     "output_type": "execute_result"
    }
   ],
   "source": [
    "# function to get features correlation with threshold > 0.7\n",
    "\n",
    "def correlation(dataset, threshold):\n",
    "    col_corr = [] \n",
    "    corr_matrix = dataset.corr()\n",
    "    for i in range(len(corr_matrix.columns)):\n",
    "        for j in range(i):\n",
    "            if abs(corr_matrix.iloc[i, j]) > threshold: \n",
    "                colname = corr_matrix.columns[i]\n",
    "                col_corr.append(colname)\n",
    "    return col_corr \n",
    "\n",
    "corr_features = correlation(df_encode[nums], 0.7)\n",
    "corr_features"
   ]
  },
  {
   "cell_type": "markdown",
   "id": "f7741d6f-4e0e-41d8-8908-72b3f57bddde",
   "metadata": {},
   "source": [
    "***\n",
    "[x] **ExitRates** berkorelasi kuat dengan **BounceRates**.--> 2 feature yg tidak mengenerate revenue <br>\n",
    "[v] **ProductRelated_Duration** berkorelasi kuat dengan **ProductRelated** --> akan dilakukan feature extraction.<br>\n",
    "\n",
    "\n",
    "| **Asumsi Awal**     | **Konfirmasi**|\n",
    "|----------------------- |------------- |\n",
    "|Browser | |\n",
    "|Region  |                 |\n",
    "|TrafficType | |\n",
    "|ExitRates | ExitRate|\n",
    "\n",
    "***"
   ]
  },
  {
   "cell_type": "markdown",
   "id": "532ae4d7-1d5e-4650-bfa1-f4f01946f0e2",
   "metadata": {},
   "source": [
    "**CHI SQUARE**\n",
    "\n",
    "premis : semakin rendah nilai p-value sebuah feature maka semakin penting feature tersebut."
   ]
  },
  {
   "cell_type": "code",
   "execution_count": 16,
   "id": "18202a47-76a9-418a-8d9b-2dc59a517d0d",
   "metadata": {},
   "outputs": [
    {
     "data": {
      "text/plain": [
       "(array([1.13396553e+03, 4.17548368e+04, 3.57981605e+02, 3.50597758e+04,\n",
       "        1.93172854e+04, 8.77404339e+05, 2.96543359e+01, 2.89850721e+01,\n",
       "        1.75126809e+05, 5.37970945e+01]),\n",
       " array([1.37016070e-248, 0.00000000e+000, 7.74616955e-080, 0.00000000e+000,\n",
       "        0.00000000e+000, 0.00000000e+000, 5.16369980e-008, 7.29382084e-008,\n",
       "        0.00000000e+000, 2.22301227e-013]))"
      ]
     },
     "execution_count": 16,
     "metadata": {},
     "output_type": "execute_result"
    }
   ],
   "source": [
    "#calculate F score and p value\n",
    "f_p_values=chi2(X[nums],y)\n",
    "f_p_values"
   ]
  },
  {
   "cell_type": "code",
   "execution_count": 17,
   "id": "5a50ecbb-0c6f-45ba-9729-b219c546be61",
   "metadata": {},
   "outputs": [
    {
     "data": {
      "text/plain": [
       "Administrative_Duration     0.000000e+00\n",
       "Informational_Duration      0.000000e+00\n",
       "ProductRelated              0.000000e+00\n",
       "ProductRelated_Duration     0.000000e+00\n",
       "PageValues                  0.000000e+00\n",
       "Administrative             1.370161e-248\n",
       "Informational               7.746170e-80\n",
       "SpecialDay                  2.223012e-13\n",
       "BounceRates                 5.163700e-08\n",
       "ExitRates                   7.293821e-08\n",
       "dtype: float64"
      ]
     },
     "execution_count": 17,
     "metadata": {},
     "output_type": "execute_result"
    }
   ],
   "source": [
    "#ordering the features\n",
    "p_values=pd.Series(f_p_values[1])\n",
    "p_values.index=X[nums].columns\n",
    "p_values\n",
    "\n",
    "p_values.sort_values(ascending=True)"
   ]
  },
  {
   "cell_type": "markdown",
   "id": "60daaed6-d369-4f43-b9e3-65d98efb50fc",
   "metadata": {},
   "source": [
    "***\n",
    "2 features dengan nilai p value tertinggi <br>\n",
    "[x] **BounceRatse & ExitRates** --> Feature yang berkorelasi kuat dengan ExitRates. ExitRates yang akan di-drop.\n",
    "\n",
    "| **Asumsi Awal**     | **Konfirmasi**|\n",
    "|----------------------- |------------- |\n",
    "|Browser | |\n",
    "|Region  |                 |\n",
    "|TrafficType | |\n",
    "|ExitRates | ExitRate|\n",
    "\n",
    "\n",
    "***"
   ]
  },
  {
   "cell_type": "markdown",
   "id": "3f0d01df-48b7-4cfb-a474-0e926678d425",
   "metadata": {},
   "source": [
    "**MUTUAL INFORMATION**\n",
    "\n",
    "premis : semakin tingggi nilai mutual info maka semakin penting feature tersebut"
   ]
  },
  {
   "cell_type": "code",
   "execution_count": 37,
   "id": "8abc5ce0-6ee7-40d9-b8e2-82171519111c",
   "metadata": {},
   "outputs": [
    {
     "data": {
      "text/plain": [
       "array([0.01766765, 0.01280433, 0.00440674, 0.00895493, 0.02497736,\n",
       "       0.03206701, 0.02411401, 0.04212763, 0.16540821, 0.00230331])"
      ]
     },
     "execution_count": 37,
     "metadata": {},
     "output_type": "execute_result"
    }
   ],
   "source": [
    "# determine the mutual information\n",
    "mutual_info = mutual_info_classif(X[nums], y)\n",
    "mutual_info"
   ]
  },
  {
   "cell_type": "code",
   "execution_count": 38,
   "id": "14533c2d-8176-4120-a603-d454205d5729",
   "metadata": {},
   "outputs": [
    {
     "data": {
      "text/plain": [
       "PageValues                 0.165408\n",
       "ExitRates                  0.042128\n",
       "ProductRelated_Duration    0.032067\n",
       "ProductRelated             0.024977\n",
       "BounceRates                0.024114\n",
       "Administrative             0.017668\n",
       "Administrative_Duration    0.012804\n",
       "Informational_Duration     0.008955\n",
       "Informational              0.004407\n",
       "SpecialDay                 0.002303\n",
       "dtype: float64"
      ]
     },
     "execution_count": 38,
     "metadata": {},
     "output_type": "execute_result"
    }
   ],
   "source": [
    "# ordering the features\n",
    "mutual_info = pd.Series(mutual_info)\n",
    "mutual_info.index = X[nums].columns\n",
    "mutual_info.sort_values(ascending=False)"
   ]
  },
  {
   "cell_type": "markdown",
   "id": "70f78814-a261-423f-ae22-96b0a8bf5b6b",
   "metadata": {},
   "source": [
    "***\n",
    "feature dengan nilai mutual_info terendah <br>\n",
    "[x] **SpecialDay** --> Feature yang mempunyai nilai korelasi terhadap target sebesar -0.08\n",
    "\n",
    "| **Asumsi Awal**     | **Konfirmasi**|\n",
    "|----------------------- |------------- |\n",
    "|Browser | |\n",
    "|Region  |        |\n",
    "|TrafficType | |\n",
    "|ExitRates | ExitRate|\n",
    "| | SpecialDay|\n",
    "\n",
    "***"
   ]
  },
  {
   "cell_type": "code",
   "execution_count": 39,
   "id": "4a6aa7bd-84c9-4c9e-9718-1833a745944e",
   "metadata": {},
   "outputs": [
    {
     "data": {
      "text/plain": [
       "<AxesSubplot:>"
      ]
     },
     "execution_count": 39,
     "metadata": {},
     "output_type": "execute_result"
    },
    {
     "data": {
      "image/png": "[encoded data removed]",
      "text/plain": [
       "<Figure size 1440x576 with 1 Axes>"
      ]
     },
     "metadata": {
      "needs_background": "light"
     },
     "output_type": "display_data"
    }
   ],
   "source": [
    "# plotting\n",
    "mutual_info.sort_values(ascending=False).plot.bar(figsize=(20, 8))"
   ]
  },
  {
   "cell_type": "markdown",
   "id": "e9327d5c-aed7-46af-a79b-533eacf60123",
   "metadata": {},
   "source": [
    "**KESIMPULAN**\n",
    "\n",
    "Dari hasil asumsi awal dan hasil metode **Chi Square** dan **Mutual Info** terdapat 1 feature yang mempunyai Chi-Square yang sangat besar dan juga mempunyai korelasi > 0.7 dengan feature lain yaitu : **ExitRates**.\n",
    "\n",
    "Sampai tahap ini, maka diputuskan akan melakukan drop terhadap fitur **numerik** : **ExitRates**\n"
   ]
  },
  {
   "cell_type": "markdown",
   "id": "32ac7d9d-d955-426a-904a-9a52ca6098bb",
   "metadata": {},
   "source": [
    "#### **2.A.1 Feature selection for Categoricals data**"
   ]
  },
  {
   "cell_type": "code",
   "execution_count": null,
   "id": "ca9e328b-9313-48e6-8209-8262b623fe45",
   "metadata": {},
   "outputs": [],
   "source": []
  },
  {
   "cell_type": "code",
   "execution_count": null,
   "id": "b45202fd-d52a-4ddb-8cb5-77edc356912f",
   "metadata": {},
   "outputs": [],
   "source": []
  },
  {
   "cell_type": "code",
   "execution_count": null,
   "id": "2466097c-00ad-4a5e-8911-02c22b9ec1be",
   "metadata": {},
   "outputs": [],
   "source": []
  },
  {
   "cell_type": "markdown",
   "id": "3217815f-af4c-467d-9d7f-4e60c2cf3de1",
   "metadata": {},
   "source": [
    "***\n",
    "### **2.B Feature extraction**"
   ]
  },
  {
   "cell_type": "markdown",
   "id": "0e6b4bc0-5059-4ec6-86b7-995f38e9556e",
   "metadata": {},
   "source": [
    "#### **2.B.1 Total Visit**\n",
    "\n",
    "Total jumlah page yang dikunjungi per masing-masing sesi"
   ]
  },
  {
   "cell_type": "code",
   "execution_count": 21,
   "id": "fcbe5320-d397-48ac-8438-0ed8f0b56240",
   "metadata": {},
   "outputs": [],
   "source": [
    "# Total durasi kunjungan per masing-masing sesi\n",
    "df_ex = df_encode.copy()\n",
    "df_ex['totalPage_visit'] = df_ex['Administrative'] + df_ex['Informational'] + df_ex ['ProductRelated']\n",
    "\n",
    "#atau \n",
    "\n",
    "df_ex['adm'] = df_ex['Administrative'] / df_ex['Administrative_Duration']\n",
    "df_ex['info'] = df_ex['Informational'] / df_ex['Informational_Duration']\n",
    "df_ex['product'] = df_ex['ProductRelated'] / df_ex['ProductRelated_Duration']\n"
   ]
  },
  {
   "cell_type": "code",
   "execution_count": 22,
   "id": "776d088a-a1e3-4a78-acaa-f80f430cecec",
   "metadata": {},
   "outputs": [
    {
     "data": {
      "text/html": [
       "<div>\n",
       "<style scoped>\n",
       "    .dataframe tbody tr th:only-of-type {\n",
       "        vertical-align: middle;\n",
       "    }\n",
       "\n",
       "    .dataframe tbody tr th {\n",
       "        vertical-align: top;\n",
       "    }\n",
       "\n",
       "    .dataframe thead th {\n",
       "        text-align: right;\n",
       "    }\n",
       "</style>\n",
       "<table border=\"1\" class=\"dataframe\">\n",
       "  <thead>\n",
       "    <tr style=\"text-align: right;\">\n",
       "      <th></th>\n",
       "      <th>Administrative</th>\n",
       "      <th>Administrative_Duration</th>\n",
       "      <th>Informational</th>\n",
       "      <th>Informational_Duration</th>\n",
       "      <th>ProductRelated</th>\n",
       "      <th>ProductRelated_Duration</th>\n",
       "      <th>BounceRates</th>\n",
       "      <th>ExitRates</th>\n",
       "      <th>PageValues</th>\n",
       "      <th>SpecialDay</th>\n",
       "      <th>...</th>\n",
       "      <th>TrafficType</th>\n",
       "      <th>Weekend</th>\n",
       "      <th>visitor_New_Visitor</th>\n",
       "      <th>visitor_Other</th>\n",
       "      <th>visitor_Returning_Visitor</th>\n",
       "      <th>Revenue</th>\n",
       "      <th>totalPage_visit</th>\n",
       "      <th>adm</th>\n",
       "      <th>info</th>\n",
       "      <th>product</th>\n",
       "    </tr>\n",
       "  </thead>\n",
       "  <tbody>\n",
       "    <tr>\n",
       "      <th>8060</th>\n",
       "      <td>0</td>\n",
       "      <td>0.0</td>\n",
       "      <td>0</td>\n",
       "      <td>0.0</td>\n",
       "      <td>38</td>\n",
       "      <td>1185.986275</td>\n",
       "      <td>0.000000</td>\n",
       "      <td>0.009501</td>\n",
       "      <td>0.0</td>\n",
       "      <td>0.0</td>\n",
       "      <td>...</td>\n",
       "      <td>3</td>\n",
       "      <td>False</td>\n",
       "      <td>0</td>\n",
       "      <td>0</td>\n",
       "      <td>1</td>\n",
       "      <td>False</td>\n",
       "      <td>38</td>\n",
       "      <td>NaN</td>\n",
       "      <td>NaN</td>\n",
       "      <td>0.032041</td>\n",
       "    </tr>\n",
       "    <tr>\n",
       "      <th>5991</th>\n",
       "      <td>0</td>\n",
       "      <td>0.0</td>\n",
       "      <td>0</td>\n",
       "      <td>0.0</td>\n",
       "      <td>21</td>\n",
       "      <td>192.900000</td>\n",
       "      <td>0.059091</td>\n",
       "      <td>0.104545</td>\n",
       "      <td>0.0</td>\n",
       "      <td>0.0</td>\n",
       "      <td>...</td>\n",
       "      <td>3</td>\n",
       "      <td>True</td>\n",
       "      <td>0</td>\n",
       "      <td>0</td>\n",
       "      <td>1</td>\n",
       "      <td>False</td>\n",
       "      <td>21</td>\n",
       "      <td>NaN</td>\n",
       "      <td>NaN</td>\n",
       "      <td>0.108865</td>\n",
       "    </tr>\n",
       "    <tr>\n",
       "      <th>5580</th>\n",
       "      <td>1</td>\n",
       "      <td>44.0</td>\n",
       "      <td>0</td>\n",
       "      <td>0.0</td>\n",
       "      <td>1</td>\n",
       "      <td>0.000000</td>\n",
       "      <td>0.000000</td>\n",
       "      <td>0.066667</td>\n",
       "      <td>0.0</td>\n",
       "      <td>0.0</td>\n",
       "      <td>...</td>\n",
       "      <td>5</td>\n",
       "      <td>False</td>\n",
       "      <td>1</td>\n",
       "      <td>0</td>\n",
       "      <td>0</td>\n",
       "      <td>True</td>\n",
       "      <td>2</td>\n",
       "      <td>0.022727</td>\n",
       "      <td>NaN</td>\n",
       "      <td>inf</td>\n",
       "    </tr>\n",
       "    <tr>\n",
       "      <th>5968</th>\n",
       "      <td>0</td>\n",
       "      <td>0.0</td>\n",
       "      <td>0</td>\n",
       "      <td>0.0</td>\n",
       "      <td>2</td>\n",
       "      <td>179.800000</td>\n",
       "      <td>0.000000</td>\n",
       "      <td>0.033333</td>\n",
       "      <td>0.0</td>\n",
       "      <td>0.0</td>\n",
       "      <td>...</td>\n",
       "      <td>3</td>\n",
       "      <td>True</td>\n",
       "      <td>1</td>\n",
       "      <td>0</td>\n",
       "      <td>0</td>\n",
       "      <td>False</td>\n",
       "      <td>2</td>\n",
       "      <td>NaN</td>\n",
       "      <td>NaN</td>\n",
       "      <td>0.011123</td>\n",
       "    </tr>\n",
       "    <tr>\n",
       "      <th>4819</th>\n",
       "      <td>0</td>\n",
       "      <td>0.0</td>\n",
       "      <td>0</td>\n",
       "      <td>0.0</td>\n",
       "      <td>5</td>\n",
       "      <td>99.666667</td>\n",
       "      <td>0.000000</td>\n",
       "      <td>0.040000</td>\n",
       "      <td>0.0</td>\n",
       "      <td>0.6</td>\n",
       "      <td>...</td>\n",
       "      <td>4</td>\n",
       "      <td>False</td>\n",
       "      <td>0</td>\n",
       "      <td>0</td>\n",
       "      <td>1</td>\n",
       "      <td>False</td>\n",
       "      <td>5</td>\n",
       "      <td>NaN</td>\n",
       "      <td>NaN</td>\n",
       "      <td>0.050167</td>\n",
       "    </tr>\n",
       "  </tbody>\n",
       "</table>\n",
       "<p>5 rows × 24 columns</p>\n",
       "</div>"
      ],
      "text/plain": [
       "      Administrative  Administrative_Duration  Informational  \\\n",
       "8060               0                      0.0              0   \n",
       "5991               0                      0.0              0   \n",
       "5580               1                     44.0              0   \n",
       "5968               0                      0.0              0   \n",
       "4819               0                      0.0              0   \n",
       "\n",
       "      Informational_Duration  ProductRelated  ProductRelated_Duration  \\\n",
       "8060                     0.0              38              1185.986275   \n",
       "5991                     0.0              21               192.900000   \n",
       "5580                     0.0               1                 0.000000   \n",
       "5968                     0.0               2               179.800000   \n",
       "4819                     0.0               5                99.666667   \n",
       "\n",
       "      BounceRates  ExitRates  PageValues  SpecialDay  ...  TrafficType  \\\n",
       "8060     0.000000   0.009501         0.0         0.0  ...            3   \n",
       "5991     0.059091   0.104545         0.0         0.0  ...            3   \n",
       "5580     0.000000   0.066667         0.0         0.0  ...            5   \n",
       "5968     0.000000   0.033333         0.0         0.0  ...            3   \n",
       "4819     0.000000   0.040000         0.0         0.6  ...            4   \n",
       "\n",
       "      Weekend  visitor_New_Visitor  visitor_Other  visitor_Returning_Visitor  \\\n",
       "8060    False                    0              0                          1   \n",
       "5991     True                    0              0                          1   \n",
       "5580    False                    1              0                          0   \n",
       "5968     True                    1              0                          0   \n",
       "4819    False                    0              0                          1   \n",
       "\n",
       "      Revenue  totalPage_visit       adm  info   product  \n",
       "8060    False               38       NaN   NaN  0.032041  \n",
       "5991    False               21       NaN   NaN  0.108865  \n",
       "5580     True                2  0.022727   NaN       inf  \n",
       "5968    False                2       NaN   NaN  0.011123  \n",
       "4819    False                5       NaN   NaN  0.050167  \n",
       "\n",
       "[5 rows x 24 columns]"
      ]
     },
     "execution_count": 22,
     "metadata": {},
     "output_type": "execute_result"
    }
   ],
   "source": [
    "df_ex.sample(5)"
   ]
  },
  {
   "cell_type": "markdown",
   "id": "1e31fc25-3054-4853-8049-1dce08f2445d",
   "metadata": {},
   "source": [
    "#### **2.B.2 Total Duration**\n",
    "\n",
    "Total durasi kunjungan per masing-masing sesi"
   ]
  },
  {
   "cell_type": "code",
   "execution_count": 23,
   "id": "0186fb5e-2a69-4f53-93d9-bffd2a18565f",
   "metadata": {},
   "outputs": [],
   "source": [
    "# Total durasi kunjungan per masing-masing sesi\n",
    "df_ex['total_duration'] = df_ex['Administrative_Duration'] + df_ex['Informational_Duration'] + df_ex ['ProductRelated_Duration']"
   ]
  },
  {
   "cell_type": "code",
   "execution_count": 24,
   "id": "e0685afc-83dd-4be7-9ab2-ebb54bd9a236",
   "metadata": {},
   "outputs": [
    {
     "data": {
      "text/html": [
       "<div>\n",
       "<style scoped>\n",
       "    .dataframe tbody tr th:only-of-type {\n",
       "        vertical-align: middle;\n",
       "    }\n",
       "\n",
       "    .dataframe tbody tr th {\n",
       "        vertical-align: top;\n",
       "    }\n",
       "\n",
       "    .dataframe thead th {\n",
       "        text-align: right;\n",
       "    }\n",
       "</style>\n",
       "<table border=\"1\" class=\"dataframe\">\n",
       "  <thead>\n",
       "    <tr style=\"text-align: right;\">\n",
       "      <th></th>\n",
       "      <th>Administrative</th>\n",
       "      <th>Administrative_Duration</th>\n",
       "      <th>Informational</th>\n",
       "      <th>Informational_Duration</th>\n",
       "      <th>ProductRelated</th>\n",
       "      <th>ProductRelated_Duration</th>\n",
       "      <th>BounceRates</th>\n",
       "      <th>ExitRates</th>\n",
       "      <th>PageValues</th>\n",
       "      <th>SpecialDay</th>\n",
       "      <th>...</th>\n",
       "      <th>Weekend</th>\n",
       "      <th>visitor_New_Visitor</th>\n",
       "      <th>visitor_Other</th>\n",
       "      <th>visitor_Returning_Visitor</th>\n",
       "      <th>Revenue</th>\n",
       "      <th>totalPage_visit</th>\n",
       "      <th>adm</th>\n",
       "      <th>info</th>\n",
       "      <th>product</th>\n",
       "      <th>total_duration</th>\n",
       "    </tr>\n",
       "  </thead>\n",
       "  <tbody>\n",
       "    <tr>\n",
       "      <th>9972</th>\n",
       "      <td>0</td>\n",
       "      <td>0.0</td>\n",
       "      <td>0</td>\n",
       "      <td>0.0</td>\n",
       "      <td>63</td>\n",
       "      <td>1361.203175</td>\n",
       "      <td>0.000000</td>\n",
       "      <td>0.014762</td>\n",
       "      <td>0.000000</td>\n",
       "      <td>0.0</td>\n",
       "      <td>...</td>\n",
       "      <td>False</td>\n",
       "      <td>0</td>\n",
       "      <td>0</td>\n",
       "      <td>1</td>\n",
       "      <td>False</td>\n",
       "      <td>63</td>\n",
       "      <td>NaN</td>\n",
       "      <td>NaN</td>\n",
       "      <td>0.046283</td>\n",
       "      <td>1361.203175</td>\n",
       "    </tr>\n",
       "    <tr>\n",
       "      <th>6988</th>\n",
       "      <td>0</td>\n",
       "      <td>0.0</td>\n",
       "      <td>0</td>\n",
       "      <td>0.0</td>\n",
       "      <td>27</td>\n",
       "      <td>925.293333</td>\n",
       "      <td>0.014815</td>\n",
       "      <td>0.030688</td>\n",
       "      <td>0.000000</td>\n",
       "      <td>0.0</td>\n",
       "      <td>...</td>\n",
       "      <td>False</td>\n",
       "      <td>0</td>\n",
       "      <td>0</td>\n",
       "      <td>1</td>\n",
       "      <td>False</td>\n",
       "      <td>27</td>\n",
       "      <td>NaN</td>\n",
       "      <td>NaN</td>\n",
       "      <td>0.029180</td>\n",
       "      <td>925.293333</td>\n",
       "    </tr>\n",
       "    <tr>\n",
       "      <th>3590</th>\n",
       "      <td>0</td>\n",
       "      <td>0.0</td>\n",
       "      <td>0</td>\n",
       "      <td>0.0</td>\n",
       "      <td>48</td>\n",
       "      <td>1304.666667</td>\n",
       "      <td>0.016667</td>\n",
       "      <td>0.051215</td>\n",
       "      <td>0.000000</td>\n",
       "      <td>0.6</td>\n",
       "      <td>...</td>\n",
       "      <td>False</td>\n",
       "      <td>0</td>\n",
       "      <td>0</td>\n",
       "      <td>1</td>\n",
       "      <td>False</td>\n",
       "      <td>48</td>\n",
       "      <td>NaN</td>\n",
       "      <td>NaN</td>\n",
       "      <td>0.036791</td>\n",
       "      <td>1304.666667</td>\n",
       "    </tr>\n",
       "    <tr>\n",
       "      <th>10383</th>\n",
       "      <td>3</td>\n",
       "      <td>53.0</td>\n",
       "      <td>5</td>\n",
       "      <td>9.5</td>\n",
       "      <td>218</td>\n",
       "      <td>8205.687940</td>\n",
       "      <td>0.023570</td>\n",
       "      <td>0.039664</td>\n",
       "      <td>1.180737</td>\n",
       "      <td>0.0</td>\n",
       "      <td>...</td>\n",
       "      <td>False</td>\n",
       "      <td>0</td>\n",
       "      <td>0</td>\n",
       "      <td>1</td>\n",
       "      <td>True</td>\n",
       "      <td>226</td>\n",
       "      <td>0.056604</td>\n",
       "      <td>0.526316</td>\n",
       "      <td>0.026567</td>\n",
       "      <td>8268.187940</td>\n",
       "    </tr>\n",
       "    <tr>\n",
       "      <th>6962</th>\n",
       "      <td>3</td>\n",
       "      <td>37.2</td>\n",
       "      <td>1</td>\n",
       "      <td>0.0</td>\n",
       "      <td>3</td>\n",
       "      <td>14.000000</td>\n",
       "      <td>0.000000</td>\n",
       "      <td>0.033333</td>\n",
       "      <td>0.000000</td>\n",
       "      <td>0.0</td>\n",
       "      <td>...</td>\n",
       "      <td>True</td>\n",
       "      <td>1</td>\n",
       "      <td>0</td>\n",
       "      <td>0</td>\n",
       "      <td>False</td>\n",
       "      <td>7</td>\n",
       "      <td>0.080645</td>\n",
       "      <td>inf</td>\n",
       "      <td>0.214286</td>\n",
       "      <td>51.200000</td>\n",
       "    </tr>\n",
       "  </tbody>\n",
       "</table>\n",
       "<p>5 rows × 25 columns</p>\n",
       "</div>"
      ],
      "text/plain": [
       "       Administrative  Administrative_Duration  Informational  \\\n",
       "9972                0                      0.0              0   \n",
       "6988                0                      0.0              0   \n",
       "3590                0                      0.0              0   \n",
       "10383               3                     53.0              5   \n",
       "6962                3                     37.2              1   \n",
       "\n",
       "       Informational_Duration  ProductRelated  ProductRelated_Duration  \\\n",
       "9972                      0.0              63              1361.203175   \n",
       "6988                      0.0              27               925.293333   \n",
       "3590                      0.0              48              1304.666667   \n",
       "10383                     9.5             218              8205.687940   \n",
       "6962                      0.0               3                14.000000   \n",
       "\n",
       "       BounceRates  ExitRates  PageValues  SpecialDay  ...  Weekend  \\\n",
       "9972      0.000000   0.014762    0.000000         0.0  ...    False   \n",
       "6988      0.014815   0.030688    0.000000         0.0  ...    False   \n",
       "3590      0.016667   0.051215    0.000000         0.6  ...    False   \n",
       "10383     0.023570   0.039664    1.180737         0.0  ...    False   \n",
       "6962      0.000000   0.033333    0.000000         0.0  ...     True   \n",
       "\n",
       "       visitor_New_Visitor  visitor_Other  visitor_Returning_Visitor  Revenue  \\\n",
       "9972                     0              0                          1    False   \n",
       "6988                     0              0                          1    False   \n",
       "3590                     0              0                          1    False   \n",
       "10383                    0              0                          1     True   \n",
       "6962                     1              0                          0    False   \n",
       "\n",
       "       totalPage_visit       adm      info   product  total_duration  \n",
       "9972                63       NaN       NaN  0.046283     1361.203175  \n",
       "6988                27       NaN       NaN  0.029180      925.293333  \n",
       "3590                48       NaN       NaN  0.036791     1304.666667  \n",
       "10383              226  0.056604  0.526316  0.026567     8268.187940  \n",
       "6962                 7  0.080645       inf  0.214286       51.200000  \n",
       "\n",
       "[5 rows x 25 columns]"
      ]
     },
     "execution_count": 24,
     "metadata": {},
     "output_type": "execute_result"
    }
   ],
   "source": [
    "df_ex.sample(5)"
   ]
  },
  {
   "cell_type": "markdown",
   "id": "d117575f-e9e9-468c-bc63-1c5b344a6a11",
   "metadata": {},
   "source": [
    "#### **2.B.3 Rasio (Duration/Page)**"
   ]
  },
  {
   "cell_type": "code",
   "execution_count": 32,
   "id": "18c382ab-7275-4a38-ba77-3b218b57886c",
   "metadata": {},
   "outputs": [
    {
     "data": {
      "text/html": [
       "<div>\n",
       "<style scoped>\n",
       "    .dataframe tbody tr th:only-of-type {\n",
       "        vertical-align: middle;\n",
       "    }\n",
       "\n",
       "    .dataframe tbody tr th {\n",
       "        vertical-align: top;\n",
       "    }\n",
       "\n",
       "    .dataframe thead th {\n",
       "        text-align: right;\n",
       "    }\n",
       "</style>\n",
       "<table border=\"1\" class=\"dataframe\">\n",
       "  <thead>\n",
       "    <tr style=\"text-align: right;\">\n",
       "      <th></th>\n",
       "      <th>Administrative</th>\n",
       "      <th>Administrative_Duration</th>\n",
       "      <th>Informational</th>\n",
       "      <th>Informational_Duration</th>\n",
       "      <th>ProductRelated</th>\n",
       "      <th>ProductRelated_Duration</th>\n",
       "      <th>BounceRates</th>\n",
       "      <th>ExitRates</th>\n",
       "      <th>PageValues</th>\n",
       "      <th>SpecialDay</th>\n",
       "      <th>...</th>\n",
       "      <th>visitor_Returning_Visitor</th>\n",
       "      <th>Revenue</th>\n",
       "      <th>totalPage_visit</th>\n",
       "      <th>adm</th>\n",
       "      <th>info</th>\n",
       "      <th>product</th>\n",
       "      <th>total_duration</th>\n",
       "      <th>adm_rasio</th>\n",
       "      <th>info_rasio</th>\n",
       "      <th>product_rasio</th>\n",
       "    </tr>\n",
       "  </thead>\n",
       "  <tbody>\n",
       "    <tr>\n",
       "      <th>0</th>\n",
       "      <td>0</td>\n",
       "      <td>0.0</td>\n",
       "      <td>0</td>\n",
       "      <td>0.0</td>\n",
       "      <td>1</td>\n",
       "      <td>0.000000</td>\n",
       "      <td>0.20</td>\n",
       "      <td>0.20</td>\n",
       "      <td>0.0</td>\n",
       "      <td>0.0</td>\n",
       "      <td>...</td>\n",
       "      <td>1</td>\n",
       "      <td>False</td>\n",
       "      <td>1</td>\n",
       "      <td>NaN</td>\n",
       "      <td>NaN</td>\n",
       "      <td>0.000000</td>\n",
       "      <td>0.000000</td>\n",
       "      <td>0.0</td>\n",
       "      <td>0.0</td>\n",
       "      <td>0.000000</td>\n",
       "    </tr>\n",
       "    <tr>\n",
       "      <th>1</th>\n",
       "      <td>0</td>\n",
       "      <td>0.0</td>\n",
       "      <td>0</td>\n",
       "      <td>0.0</td>\n",
       "      <td>2</td>\n",
       "      <td>64.000000</td>\n",
       "      <td>0.00</td>\n",
       "      <td>0.10</td>\n",
       "      <td>0.0</td>\n",
       "      <td>0.0</td>\n",
       "      <td>...</td>\n",
       "      <td>1</td>\n",
       "      <td>False</td>\n",
       "      <td>2</td>\n",
       "      <td>NaN</td>\n",
       "      <td>NaN</td>\n",
       "      <td>32.000000</td>\n",
       "      <td>64.000000</td>\n",
       "      <td>0.0</td>\n",
       "      <td>0.0</td>\n",
       "      <td>32.000000</td>\n",
       "    </tr>\n",
       "    <tr>\n",
       "      <th>2</th>\n",
       "      <td>0</td>\n",
       "      <td>0.0</td>\n",
       "      <td>0</td>\n",
       "      <td>0.0</td>\n",
       "      <td>1</td>\n",
       "      <td>0.000000</td>\n",
       "      <td>0.20</td>\n",
       "      <td>0.20</td>\n",
       "      <td>0.0</td>\n",
       "      <td>0.0</td>\n",
       "      <td>...</td>\n",
       "      <td>1</td>\n",
       "      <td>False</td>\n",
       "      <td>1</td>\n",
       "      <td>NaN</td>\n",
       "      <td>NaN</td>\n",
       "      <td>0.000000</td>\n",
       "      <td>0.000000</td>\n",
       "      <td>0.0</td>\n",
       "      <td>0.0</td>\n",
       "      <td>0.000000</td>\n",
       "    </tr>\n",
       "    <tr>\n",
       "      <th>3</th>\n",
       "      <td>0</td>\n",
       "      <td>0.0</td>\n",
       "      <td>0</td>\n",
       "      <td>0.0</td>\n",
       "      <td>2</td>\n",
       "      <td>2.666667</td>\n",
       "      <td>0.05</td>\n",
       "      <td>0.14</td>\n",
       "      <td>0.0</td>\n",
       "      <td>0.0</td>\n",
       "      <td>...</td>\n",
       "      <td>1</td>\n",
       "      <td>False</td>\n",
       "      <td>2</td>\n",
       "      <td>NaN</td>\n",
       "      <td>NaN</td>\n",
       "      <td>1.333333</td>\n",
       "      <td>2.666667</td>\n",
       "      <td>0.0</td>\n",
       "      <td>0.0</td>\n",
       "      <td>1.333333</td>\n",
       "    </tr>\n",
       "    <tr>\n",
       "      <th>4</th>\n",
       "      <td>0</td>\n",
       "      <td>0.0</td>\n",
       "      <td>0</td>\n",
       "      <td>0.0</td>\n",
       "      <td>10</td>\n",
       "      <td>627.500000</td>\n",
       "      <td>0.02</td>\n",
       "      <td>0.05</td>\n",
       "      <td>0.0</td>\n",
       "      <td>0.0</td>\n",
       "      <td>...</td>\n",
       "      <td>1</td>\n",
       "      <td>False</td>\n",
       "      <td>10</td>\n",
       "      <td>NaN</td>\n",
       "      <td>NaN</td>\n",
       "      <td>62.750000</td>\n",
       "      <td>627.500000</td>\n",
       "      <td>0.0</td>\n",
       "      <td>0.0</td>\n",
       "      <td>62.750000</td>\n",
       "    </tr>\n",
       "  </tbody>\n",
       "</table>\n",
       "<p>5 rows × 28 columns</p>\n",
       "</div>"
      ],
      "text/plain": [
       "   Administrative  Administrative_Duration  Informational  \\\n",
       "0               0                      0.0              0   \n",
       "1               0                      0.0              0   \n",
       "2               0                      0.0              0   \n",
       "3               0                      0.0              0   \n",
       "4               0                      0.0              0   \n",
       "\n",
       "   Informational_Duration  ProductRelated  ProductRelated_Duration  \\\n",
       "0                     0.0               1                 0.000000   \n",
       "1                     0.0               2                64.000000   \n",
       "2                     0.0               1                 0.000000   \n",
       "3                     0.0               2                 2.666667   \n",
       "4                     0.0              10               627.500000   \n",
       "\n",
       "   BounceRates  ExitRates  PageValues  SpecialDay  ...  \\\n",
       "0         0.20       0.20         0.0         0.0  ...   \n",
       "1         0.00       0.10         0.0         0.0  ...   \n",
       "2         0.20       0.20         0.0         0.0  ...   \n",
       "3         0.05       0.14         0.0         0.0  ...   \n",
       "4         0.02       0.05         0.0         0.0  ...   \n",
       "\n",
       "   visitor_Returning_Visitor  Revenue  totalPage_visit  adm  info    product  \\\n",
       "0                          1    False                1  NaN   NaN   0.000000   \n",
       "1                          1    False                2  NaN   NaN  32.000000   \n",
       "2                          1    False                1  NaN   NaN   0.000000   \n",
       "3                          1    False                2  NaN   NaN   1.333333   \n",
       "4                          1    False               10  NaN   NaN  62.750000   \n",
       "\n",
       "   total_duration  adm_rasio  info_rasio  product_rasio  \n",
       "0        0.000000        0.0         0.0       0.000000  \n",
       "1       64.000000        0.0         0.0      32.000000  \n",
       "2        0.000000        0.0         0.0       0.000000  \n",
       "3        2.666667        0.0         0.0       1.333333  \n",
       "4      627.500000        0.0         0.0      62.750000  \n",
       "\n",
       "[5 rows x 28 columns]"
      ]
     },
     "execution_count": 32,
     "metadata": {},
     "output_type": "execute_result"
    }
   ],
   "source": [
    "df_ex['adm_rasio'] = df_ex['Administrative_Duration'] / df_ex['Administrative']\n",
    "df_ex['info_rasio'] = df_ex['Informational_Duration'] / df_ex['Informational']\n",
    "df_ex['product_rasio'] = df_ex['ProductRelated_Duration'] / df_ex['ProductRelated']\n",
    "\n",
    "df_ex['adm_rasio'] = df_ex['adm_rasio'].fillna(0)\n",
    "df_ex['info_rasio'] = df_ex['info_rasio'].fillna(0)\n",
    "df_ex['product_rasio'] = df_ex['product_rasio'].fillna(0)\n",
    "\n",
    "df_ex.head(5)"
   ]
  },
  {
   "cell_type": "markdown",
   "id": "c6d9dfed-d69e-43b7-9557-645b7583e633",
   "metadata": {},
   "source": [
    "***\n",
    "### **2.C Feature tambahan**"
   ]
  },
  {
   "cell_type": "markdown",
   "id": "3e350af5-6cc2-440f-8d1d-55aab16927ae",
   "metadata": {},
   "source": [
    "1. Customer ID - Data memiliki unique value dan bisa diketahui dan dilakukan tracing perilaku konsumen dan transaksi berulang\n",
    "2. Returning Page - Untuk dapat mengetahui page-page mana yang dibuka berulang kali, hal ini menandakan ketertarikan konsumen pada page tersebut\n",
    "3. Seller Reputation - Asumsinya reputasi seller akan berpengaruh pada minat beli dan keputusan beli\n",
    "4. Satisfaction Score - untuk mengetahui kepuasan terhadap transaksi di web dan kaitannya apakah dapat meningkatkan revenue\n",
    "5. Product in Basket - fitur ini dapat mengetahui user yang memiliki minat beli namun belum melakukan transaksi.\n",
    "6. Gender - Fitur ini bertujuan untuk mengetahui sebaran revenue per masing-masing Jenis kelamin user"
   ]
  },
  {
   "cell_type": "code",
   "execution_count": null,
   "id": "1f840d12-9ecc-4ab0-a925-6b0600e96005",
   "metadata": {},
   "outputs": [],
   "source": []
  }
 ],
 "metadata": {
  "kernelspec": {
   "display_name": "Python 3 (ipykernel)",
   "language": "python",
   "name": "python3"
  },
  "language_info": {
   "codemirror_mode": {
    "name": "ipython",
    "version": 3
   },
   "file_extension": ".py",
   "mimetype": "text/x-python",
   "name": "python",
   "nbconvert_exporter": "python",
   "pygments_lexer": "ipython3",
   "version": "3.9.12"
  }
 },
 "nbformat": 4,
 "nbformat_minor": 5
}
